{
 "cells": [
  {
   "cell_type": "markdown",
   "metadata": {},
   "source": [
    "# **Introduction to Functions and built-in Functions in Python**"
   ]
  },
  {
   "cell_type": "markdown",
   "metadata": {},
   "source": [
    "# **Magic Methods**"
   ]
  },
  {
   "cell_type": "markdown",
   "metadata": {},
   "source": [
    "* Magic methods - internal methods of classes and they ate usually not called EXPLICITLY (Will called by python under the hood).\n",
    "* Magic methods will work differently in different classes."
   ]
  },
  {
   "cell_type": "code",
   "execution_count": 109,
   "metadata": {},
   "outputs": [
    {
     "name": "stdout",
     "output_type": "stream",
     "text": [
      "['__add__', '__class__', '__contains__', '__delattr__', '__dir__', '__doc__', '__eq__', '__format__', '__ge__', '__getattribute__', '__getitem__', '__getnewargs__', '__getstate__', '__gt__', '__hash__', '__init__', '__init_subclass__', '__iter__', '__le__', '__len__', '__lt__', '__mod__', '__mul__', '__ne__', '__new__', '__reduce__', '__reduce_ex__', '__repr__', '__rmod__', '__rmul__', '__setattr__', '__sizeof__', '__str__', '__subclasshook__', 'capitalize', 'casefold', 'center', 'count', 'encode', 'endswith', 'expandtabs', 'find', 'format', 'format_map', 'index', 'isalnum', 'isalpha', 'isascii', 'isdecimal', 'isdigit', 'isidentifier', 'islower', 'isnumeric', 'isprintable', 'isspace', 'istitle', 'isupper', 'join', 'ljust', 'lower', 'lstrip', 'maketrans', 'partition', 'removeprefix', 'removesuffix', 'replace', 'rfind', 'rindex', 'rjust', 'rpartition', 'rsplit', 'rstrip', 'split', 'splitlines', 'startswith', 'strip', 'swapcase', 'title', 'translate', 'upper', 'zfill']\n",
      "<method-wrapper '__str__' of str object at 0x00007FF8360F0F20>\n"
     ]
    }
   ],
   "source": [
    "my_str = 'abc'\n",
    "\n",
    "# will list all magic(eg: __add__) methods and a regular (eg: .format) methods\n",
    "print(dir(my_str))\n",
    "\n",
    "print(my_str.__str__)"
   ]
  },
  {
   "cell_type": "markdown",
   "metadata": {},
   "source": [
    "# **Lists**"
   ]
  },
  {
   "cell_type": "code",
   "execution_count": 110,
   "metadata": {},
   "outputs": [
    {
     "name": "stdout",
     "output_type": "stream",
     "text": [
      "type of object list 1 is: <class 'list'>\n",
      "type of object list 2 is: <class 'list'>\n"
     ]
    }
   ],
   "source": [
    "# Structure and syntax:\n",
    "\n",
    "# create new list:\n",
    "list1 = []\n",
    "list2 = list()\n",
    "\n",
    "print(f'type of object list 1 is: {type(list1)}')\n",
    "print(f'type of object list 2 is: {type(list2)}')"
   ]
  },
  {
   "cell_type": "markdown",
   "metadata": {},
   "source": [
    "**Indexing of the elements starts from 0**"
   ]
  },
  {
   "cell_type": "code",
   "execution_count": 122,
   "metadata": {},
   "outputs": [
    {
     "name": "stdout",
     "output_type": "stream",
     "text": [
      "Second element of the list: Banana\n"
     ]
    }
   ],
   "source": [
    "my_fruits = ['Apple', 'Banana', 'Lime']\n",
    "\n",
    "# can be accessed by index:\n",
    "print('Second element of the list:', my_fruits[1])"
   ]
  },
  {
   "cell_type": "code",
   "execution_count": 117,
   "metadata": {},
   "outputs": [
    {
     "name": "stdout",
     "output_type": "stream",
     "text": [
      "Lime\n"
     ]
    }
   ],
   "source": [
    "# also the elements can be accessed by negative indexing, for example:\n",
    "print(my_fruits[-1])\n",
    "\n",
    "# -1 index is the last element in the list."
   ]
  },
  {
   "cell_type": "markdown",
   "metadata": {},
   "source": [
    "*Oerder in the list is important*"
   ]
  },
  {
   "cell_type": "code",
   "execution_count": 114,
   "metadata": {},
   "outputs": [
    {
     "name": "stdout",
     "output_type": "stream",
     "text": [
      "Does the lists are identical? False\n"
     ]
    }
   ],
   "source": [
    "# create new list with same elements in different order.\n",
    "other_fruits = ['Apple',  'Lime', 'Banana']\n",
    "\n",
    "# no, the order of the elemnts is different.\n",
    "print('Does the lists are identical?', my_fruits == other_fruits)"
   ]
  },
  {
   "cell_type": "code",
   "execution_count": 115,
   "metadata": {},
   "outputs": [
    {
     "name": "stdout",
     "output_type": "stream",
     "text": [
      "The lenght of the list is: 3\n"
     ]
    }
   ],
   "source": [
    "# lenght of the list (size):\n",
    "print('The lenght of the list is:', len(my_fruits))"
   ]
  },
  {
   "cell_type": "code",
   "execution_count": 123,
   "metadata": {},
   "outputs": [
    {
     "name": "stdout",
     "output_type": "stream",
     "text": [
      "id: 2525333770176 ['Apple', 'Banana', 'Lime']\n",
      "id: 2525333770176 ['Strawberry', 'Banana', 'Lime']\n"
     ]
    }
   ],
   "source": [
    "# Lists are mutable objects, so we can modify them\n",
    "print('id:', id(my_fruits), my_fruits)\n",
    "\n",
    "my_fruits[0] = 'Strawberry'\n",
    "print('id:', id(my_fruits), my_fruits)\n",
    "\n",
    "# we can see that the object still the same object."
   ]
  },
  {
   "cell_type": "code",
   "execution_count": 124,
   "metadata": {},
   "outputs": [
    {
     "name": "stdout",
     "output_type": "stream",
     "text": [
      "['Strawberry', 'Banana']\n"
     ]
    }
   ],
   "source": [
    "# delete elemnt from the list: delete last elemnt\n",
    "del my_fruits[-1]\n",
    "\n",
    "print(my_fruits)"
   ]
  },
  {
   "cell_type": "code",
   "execution_count": 127,
   "metadata": {},
   "outputs": [
    {
     "name": "stdout",
     "output_type": "stream",
     "text": [
      "157\n"
     ]
    }
   ],
   "source": [
    "# access to nestred list:\n",
    "users = [{'user_id': 134, 'user_name': 'Alice'},\n",
    "         {'user_id': 157, 'user_name': 'Bob'}]\n",
    "\n",
    "# print userid of the second user from the list.\n",
    "print(users[1]['user_id'])"
   ]
  },
  {
   "cell_type": "markdown",
   "metadata": {},
   "source": [
    "## List Methods"
   ]
  },
  {
   "cell_type": "markdown",
   "metadata": {},
   "source": [
    "* .append - add new element to the list.\n",
    "* .pop - remove lement from the list (the last element by defualt - otherwise mention index).\n",
    "* .insert - insert specific elemnt at specific index.\n",
    "* sort elemnts - by default use asc method, can modified by list_name.sort(reverse = True)"
   ]
  },
  {
   "cell_type": "code",
   "execution_count": 137,
   "metadata": {},
   "outputs": [
    {
     "name": "stdout",
     "output_type": "stream",
     "text": [
      "Min element: 2.5\n",
      "Max element: 5.0\n",
      "Sum element: 15.5\n",
      "Avarege: 3.875\n"
     ]
    }
   ],
   "source": [
    "# Arithmetic operations in lists:\n",
    "ratings = [2.5, 5.0, 4.3, 3.7]\n",
    "\n",
    "print('Min element:', min(ratings))\n",
    "print('Max element:', max(ratings))\n",
    "print('Sum element:', sum(ratings))\n",
    "\n",
    "print('Avarege:', sum(ratings) / len(ratings))"
   ]
  },
  {
   "cell_type": "code",
   "execution_count": 145,
   "metadata": {},
   "outputs": [
    {
     "name": "stdout",
     "output_type": "stream",
     "text": [
      "First list:\t[2.5, 5.0, 4.3, 3.7] \n",
      "New list:\t[3.7, 4.5, 4.9] \n",
      "Combining:\t[2.5, 5.0, 4.3, 3.7, 3.7, 4.5, 4.9]\n"
     ]
    }
   ],
   "source": [
    "# Combining lists:\n",
    "other_ratings = [3.7, 4.5, 4.9]\n",
    "\n",
    "print(\n",
    "    f'First list:\\t{ratings} \\nNew list:\\t{other_ratings} \\nCombining:\\t{ratings+other_ratings}')\n",
    "\n",
    "# under the hood magic method __add__ executed"
   ]
  },
  {
   "cell_type": "code",
   "execution_count": 140,
   "metadata": {},
   "outputs": [
    {
     "name": "stdout",
     "output_type": "stream",
     "text": [
      "Same object:\n",
      "Old list: [2.5, 5.0, 4.3, 3.7, 0] \n",
      "New List: [2.5, 5.0, 4.3, 3.7, 0]\n",
      "\n",
      "Copied object:\n",
      "Old list: [2.5, 5.0, 4.3, 3.7] \n",
      "New List: [2.5, 5.0, 4.3, 3.7, 0]\n"
     ]
    }
   ],
   "source": [
    "# create new list from ratings\n",
    "ratings2 = ratings\n",
    "\n",
    "# append will affect both lists, old and a new one.\n",
    "ratings2.append(0)\n",
    "print('Same object:')\n",
    "print(f'Old list: {ratings}', f'\\nNew List: {ratings2}')\n",
    "\n",
    "# to avoid this use .copy method: delete previously added element\n",
    "ratings.pop()\n",
    "\n",
    "# create a copy of the list\n",
    "ratings2 = ratings.copy()\n",
    "\n",
    "# append new element(will affect a new list only)\n",
    "ratings2.append(0)\n",
    "print('\\nCopied object:')\n",
    "print(f'Old list: {ratings}', f'\\nNew List: {ratings2}')"
   ]
  },
  {
   "cell_type": "markdown",
   "metadata": {},
   "source": [
    "# **Dictionaries**"
   ]
  },
  {
   "cell_type": "code",
   "execution_count": 6,
   "metadata": {},
   "outputs": [
    {
     "name": "stdout",
     "output_type": "stream",
     "text": [
      "<class 'dict'>\n"
     ]
    }
   ],
   "source": [
    "# create dict syntax:\n",
    "dict1 = dict()\n",
    "dict2 = {}\n",
    "\n",
    "print(type(dict2))"
   ]
  },
  {
   "cell_type": "markdown",
   "metadata": {},
   "source": [
    "*Dictionary - A set of element, key: value pairs*"
   ]
  },
  {
   "cell_type": "code",
   "execution_count": 5,
   "metadata": {},
   "outputs": [
    {
     "data": {
      "text/plain": [
       "{'Brand': 'Ducati', 'Price': 25000, 'Engine_vol': 1.2}"
      ]
     },
     "execution_count": 5,
     "metadata": {},
     "output_type": "execute_result"
    }
   ],
   "source": [
    "# Example of dict\n",
    "my_motorbike = {\n",
    "    'Brand': 'Ducati',\n",
    "    'Price': 25000,\n",
    "    'Engine_vol': 1.2\n",
    "}\n",
    "\n",
    "my_motorbike"
   ]
  },
  {
   "cell_type": "markdown",
   "metadata": {},
   "source": [
    "*Order of the elements inside the dict doesn't matter. In case we have the key, we can retrieve the value.*\n",
    "\n",
    "*For example we can create a new dict with exactly the same data but in different order and compare them.*"
   ]
  },
  {
   "cell_type": "code",
   "execution_count": 11,
   "metadata": {},
   "outputs": [
    {
     "name": "stdout",
     "output_type": "stream",
     "text": [
      "{'Price': 25000, 'Engine_vol': 1.2, 'Brand': 'Ducati'}\n",
      "\n",
      "Does the dicts are identical:  True\n",
      "Does the dicts are same object:  False\n"
     ]
    }
   ],
   "source": [
    "other_bike = {\n",
    "    'Price': 25000,\n",
    "    'Engine_vol': 1.2,\n",
    "    'Brand': 'Ducati'\n",
    "}\n",
    "\n",
    "print(other_bike)\n",
    "\n",
    "# compare those two dicts:\n",
    "print('\\nDoes the dicts are identical: ', my_motorbike == other_bike)\n",
    "\n",
    "# compare objects in the memory:\n",
    "print('Does the dicts are same object: ', id(my_motorbike) == id(other_bike))"
   ]
  },
  {
   "cell_type": "markdown",
   "metadata": {},
   "source": [
    "## Add, remove and modify data inside the dicts:"
   ]
  },
  {
   "cell_type": "markdown",
   "metadata": {},
   "source": [
    "*Retrive the data from dict base on key: dict_name[key]*"
   ]
  },
  {
   "cell_type": "code",
   "execution_count": 12,
   "metadata": {},
   "outputs": [
    {
     "name": "stdout",
     "output_type": "stream",
     "text": [
      "Ducati\n",
      "25000\n"
     ]
    }
   ],
   "source": [
    "print(my_motorbike['Brand'])\n",
    "print(my_motorbike['Price'])"
   ]
  },
  {
   "cell_type": "markdown",
   "metadata": {},
   "source": [
    "*Modify value of specific key dict['key'] = new_val* "
   ]
  },
  {
   "cell_type": "code",
   "execution_count": 13,
   "metadata": {},
   "outputs": [
    {
     "name": "stdout",
     "output_type": "stream",
     "text": [
      "{'Brand': 'Ducati', 'Price': 20000, 'Engine_vol': 1.2}\n"
     ]
    }
   ],
   "source": [
    "# Modify price information:\n",
    "my_motorbike['Price'] = 20000\n",
    "\n",
    "# Show updated information:\n",
    "print(my_motorbike)"
   ]
  },
  {
   "cell_type": "markdown",
   "metadata": {},
   "source": [
    "***\"Python's dict is a mutable object, therefore when we update exist object,  current object mute - does not create new object\"***"
   ]
  },
  {
   "cell_type": "markdown",
   "metadata": {},
   "source": [
    "*Add New Key: Value pair*"
   ]
  },
  {
   "cell_type": "code",
   "execution_count": 14,
   "metadata": {},
   "outputs": [
    {
     "name": "stdout",
     "output_type": "stream",
     "text": [
      "{'Brand': 'Ducati', 'Price': 20000, 'Engine_vol': 1.2, 'Is_new': True}\n"
     ]
    }
   ],
   "source": [
    "# Add new key:\n",
    "my_motorbike['Is_new'] = True\n",
    "\n",
    "# Show updated dict\n",
    "print(my_motorbike)"
   ]
  },
  {
   "cell_type": "markdown",
   "metadata": {},
   "source": [
    "*Delete key from dict*"
   ]
  },
  {
   "cell_type": "code",
   "execution_count": 15,
   "metadata": {},
   "outputs": [
    {
     "name": "stdout",
     "output_type": "stream",
     "text": [
      "{'Brand': 'Ducati', 'Price': 20000, 'Is_new': True}\n"
     ]
    }
   ],
   "source": [
    "del my_motorbike['Engine_vol']\n",
    "\n",
    "# Show updated dict\n",
    "print(my_motorbike)"
   ]
  },
  {
   "cell_type": "code",
   "execution_count": 25,
   "metadata": {},
   "outputs": [
    {
     "name": "stdout",
     "output_type": "stream",
     "text": [
      "Total number of keys in dict: 3\n"
     ]
    }
   ],
   "source": [
    "# Return number of keys in dict:\n",
    "print('Total number of keys in dict:', len(my_motorbike))"
   ]
  },
  {
   "cell_type": "markdown",
   "metadata": {},
   "source": [
    "## Dict methods:"
   ]
  },
  {
   "cell_type": "code",
   "execution_count": 49,
   "metadata": {},
   "outputs": [
    {
     "name": "stdout",
     "output_type": "stream",
     "text": [
      "Dict keys: dict_keys(['Brand', 'Price', 'Is_new'])\n",
      "Dict Values: dict_values(['Ducati', 20000, True])\n",
      "\n",
      "Type of the object: <class 'dict_keys'>\n",
      "Type of the object: <class 'dict_values'>\n"
     ]
    }
   ],
   "source": [
    "print('Dict keys:', my_motorbike.keys())\n",
    "print('Dict Values:', my_motorbike.values())\n",
    "\n",
    "print('\\nType of the object:', type(my_motorbike.keys()))\n",
    "print('Type of the object:', type(my_motorbike.values()))"
   ]
  },
  {
   "cell_type": "markdown",
   "metadata": {},
   "source": [
    "*Items method returns <class 'dict_items'> objetct consists of tuples (key,value)*"
   ]
  },
  {
   "cell_type": "code",
   "execution_count": 56,
   "metadata": {},
   "outputs": [
    {
     "name": "stdout",
     "output_type": "stream",
     "text": [
      "dict_items([('Brand', 'Ducati'), ('Price', 20000), ('Is_new', True)])\n",
      "Type of the object: <class 'dict_items'>\n",
      "\n",
      "Content: ('Brand', 'Ducati')\n",
      "Class: <class 'tuple'>\n"
     ]
    }
   ],
   "source": [
    "print(my_motorbike.items())\n",
    "print('Type of the object:', type(my_motorbike.items()))\n",
    "\n",
    "print('\\nContent:', list(my_motorbike.items())[0])\n",
    "print('Class:', type(list(my_motorbike.items())[0]))"
   ]
  },
  {
   "cell_type": "markdown",
   "metadata": {},
   "source": [
    "*Those methods return <class 'dict_keys'> (is not a list).  It's itarable sequnce class, thus we can interate over values inside the class using for loop for example*"
   ]
  },
  {
   "cell_type": "code",
   "execution_count": 53,
   "metadata": {},
   "outputs": [
    {
     "name": "stdout",
     "output_type": "stream",
     "text": [
      "['Brand', 'Price', 'Is_new']\n"
     ]
    }
   ],
   "source": [
    "# convert keys to list class:\n",
    "keys_ls = list(my_motorbike.keys())\n",
    "print(keys_ls)"
   ]
  },
  {
   "cell_type": "code",
   "execution_count": 46,
   "metadata": {},
   "outputs": [
    {
     "name": "stdout",
     "output_type": "stream",
     "text": [
      "Ducati\n",
      "'Year' doesn't exists - return defualt: 1900\n"
     ]
    }
   ],
   "source": [
    "# .get(key, value(optional)) method returns value for the given key\n",
    "print(my_motorbike.get('Brand'))\n",
    "\n",
    "# value ruturns default value if given key doesn't exist in the dict.\n",
    "print(\"'Year' doesn't exists - return defualt:\", my_motorbike.get('Year', 1900))"
   ]
  },
  {
   "cell_type": "markdown",
   "metadata": {},
   "source": [
    "**In case we create a new dictionary new_dict = my_motorbike, and then any update on a new_dict will also affect on a parent dict - points to the same point in the memory. To avoid this behaviour we should use .copy() method**"
   ]
  },
  {
   "cell_type": "code",
   "execution_count": 58,
   "metadata": {},
   "outputs": [
    {
     "name": "stdout",
     "output_type": "stream",
     "text": [
      "First dict: {'Brand': 'Ducati', 'Price': 20000, 'Is_new': True}\n",
      "Second dict {'Brand': 'Ducati', 'Price': 20000, 'Is_new': True, 'Year': 2023}\n"
     ]
    }
   ],
   "source": [
    "# create a new dictionary that is a copy of a first dict - doesn't point to same object in memory.\n",
    "new_dict = my_motorbike.copy()\n",
    "\n",
    "# Add new key to new dict: affected only on the newer dict.\n",
    "new_dict['Year'] = 2023\n",
    "\n",
    "\n",
    "print('First dict:', my_motorbike)\n",
    "print('Second dict', new_dict)"
   ]
  },
  {
   "cell_type": "markdown",
   "metadata": {},
   "source": [
    "## Nested dictionaries"
   ]
  },
  {
   "cell_type": "code",
   "execution_count": 59,
   "metadata": {},
   "outputs": [
    {
     "name": "stdout",
     "output_type": "stream",
     "text": [
      "{'Brand': 'Ducati', 'Is_new': True, 'Price_info': {'Price': 25000, 'Is_available': True}}\n"
     ]
    }
   ],
   "source": [
    "# alter exist dict my_motorbike: 1. del Price, 2: add price_info(price, is available)\n",
    "del my_motorbike['Price']\n",
    "my_motorbike['Price_info'] = {'Price': 25000, 'Is_available': True}\n",
    "\n",
    "print(my_motorbike)"
   ]
  },
  {
   "cell_type": "code",
   "execution_count": 60,
   "metadata": {},
   "outputs": [
    {
     "name": "stdout",
     "output_type": "stream",
     "text": [
      "Price: 25000\n",
      "Is Available: True\n"
     ]
    }
   ],
   "source": [
    "# Access to the price / is available:\n",
    "print('Price:', my_motorbike['Price_info']['Price'])\n",
    "print('Is Available:', my_motorbike['Price_info']['Is_available'])"
   ]
  },
  {
   "cell_type": "markdown",
   "metadata": {},
   "source": [
    "*The size of that dict will enumirate only over \"main\" keys*"
   ]
  },
  {
   "cell_type": "code",
   "execution_count": 62,
   "metadata": {},
   "outputs": [
    {
     "name": "stdout",
     "output_type": "stream",
     "text": [
      "Size of the current dict: 3\n"
     ]
    }
   ],
   "source": [
    "print('Size of the current dict:', len(my_motorbike))"
   ]
  },
  {
   "cell_type": "code",
   "execution_count": 65,
   "metadata": {},
   "outputs": [
    {
     "name": "stdout",
     "output_type": "stream",
     "text": [
      "dict() -> new empty dictionary\n",
      "dict(mapping) -> new dictionary initialized from a mapping object's\n",
      "    (key, value) pairs\n",
      "dict(iterable) -> new dictionary initialized as if via:\n",
      "    d = {}\n",
      "    for k, v in iterable:\n",
      "        d[k] = v\n",
      "dict(**kwargs) -> new dictionary initialized with the name=value pairs\n",
      "    in the keyword argument list.  For example:  dict(one=1, two=2)\n"
     ]
    }
   ],
   "source": [
    "print(my_motorbike.__doc__)"
   ]
  },
  {
   "cell_type": "markdown",
   "metadata": {},
   "source": [
    "## Coverting other types to dict"
   ]
  },
  {
   "cell_type": "code",
   "execution_count": 72,
   "metadata": {},
   "outputs": [
    {
     "ename": "ValueError",
     "evalue": "dictionary update sequence element #0 has length 1; 2 is required",
     "output_type": "error",
     "traceback": [
      "\u001b[1;31m---------------------------------------------------------------------------\u001b[0m",
      "\u001b[1;31mValueError\u001b[0m                                Traceback (most recent call last)",
      "\u001b[1;32mc:\\Users\\Alexey\\Documents\\Data Engineering Python\\Lesson 3\\Dictionaries.ipynb Cell 34\u001b[0m line \u001b[0;36m4\n\u001b[0;32m      <a href='vscode-notebook-cell:/c%3A/Users/Alexey/Documents/Data%20Engineering%20Python/Lesson%203/Dictionaries.ipynb#Y100sZmlsZQ%3D%3D?line=0'>1</a>\u001b[0m my_string \u001b[39m=\u001b[39m \u001b[39m'\u001b[39m\u001b[39mabcd\u001b[39m\u001b[39m'\u001b[39m\n\u001b[0;32m      <a href='vscode-notebook-cell:/c%3A/Users/Alexey/Documents/Data%20Engineering%20Python/Lesson%203/Dictionaries.ipynb#Y100sZmlsZQ%3D%3D?line=2'>3</a>\u001b[0m \u001b[39m# generates an error!\u001b[39;00m\n\u001b[1;32m----> <a href='vscode-notebook-cell:/c%3A/Users/Alexey/Documents/Data%20Engineering%20Python/Lesson%203/Dictionaries.ipynb#Y100sZmlsZQ%3D%3D?line=3'>4</a>\u001b[0m \u001b[39mdict\u001b[39;49m(my_string)\n",
      "\u001b[1;31mValueError\u001b[0m: dictionary update sequence element #0 has length 1; 2 is required"
     ]
    }
   ],
   "source": [
    "my_string = 'abcd'\n",
    "\n",
    "# generates an error!\n",
    "dict(my_string)"
   ]
  },
  {
   "cell_type": "code",
   "execution_count": 73,
   "metadata": {},
   "outputs": [
    {
     "ename": "ValueError",
     "evalue": "dictionary update sequence element #0 has length 1; 2 is required",
     "output_type": "error",
     "traceback": [
      "\u001b[1;31m---------------------------------------------------------------------------\u001b[0m",
      "\u001b[1;31mValueError\u001b[0m                                Traceback (most recent call last)",
      "\u001b[1;32mc:\\Users\\Alexey\\Documents\\Data Engineering Python\\Lesson 3\\Dictionaries.ipynb Cell 35\u001b[0m line \u001b[0;36m2\n\u001b[0;32m      <a href='vscode-notebook-cell:/c%3A/Users/Alexey/Documents/Data%20Engineering%20Python/Lesson%203/Dictionaries.ipynb#Y101sZmlsZQ%3D%3D?line=0'>1</a>\u001b[0m my_lst \u001b[39m=\u001b[39m [\u001b[39m'\u001b[39m\u001b[39ma\u001b[39m\u001b[39m'\u001b[39m, \u001b[39m10\u001b[39m, \u001b[39m'\u001b[39m\u001b[39mb\u001b[39m\u001b[39m'\u001b[39m, \u001b[39m20\u001b[39m]\n\u001b[1;32m----> <a href='vscode-notebook-cell:/c%3A/Users/Alexey/Documents/Data%20Engineering%20Python/Lesson%203/Dictionaries.ipynb#Y101sZmlsZQ%3D%3D?line=1'>2</a>\u001b[0m \u001b[39mdict\u001b[39;49m(my_lst)\n",
      "\u001b[1;31mValueError\u001b[0m: dictionary update sequence element #0 has length 1; 2 is required"
     ]
    }
   ],
   "source": [
    "my_lst = ['a', 10, 'b', 20]\n",
    "# generates an error!\n",
    "dict(my_lst)"
   ]
  },
  {
   "cell_type": "code",
   "execution_count": 75,
   "metadata": {},
   "outputs": [
    {
     "data": {
      "text/plain": [
       "{'a': 10, 'b': 20}"
      ]
     },
     "execution_count": 75,
     "metadata": {},
     "output_type": "execute_result"
    }
   ],
   "source": [
    "my_lst = [['a', 10], ['b', 20]]\n",
    "\n",
    "# now it's working fine because it has a pairs of [[key, value]...[key, value]]\n",
    "dict(my_lst)"
   ]
  },
  {
   "cell_type": "code",
   "execution_count": 76,
   "metadata": {},
   "outputs": [
    {
     "data": {
      "text/plain": [
       "{'a': 10, 'b': 20}"
      ]
     },
     "execution_count": 76,
     "metadata": {},
     "output_type": "execute_result"
    }
   ],
   "source": [
    "my_lst = [('a', 10), ('b', 20)]\n",
    "\n",
    "# now it's working fine because it has a pairs of [(key, value)...(key, value)]\n",
    "dict(my_lst)"
   ]
  },
  {
   "cell_type": "markdown",
   "metadata": {},
   "source": [
    "## Task:"
   ]
  },
  {
   "cell_type": "markdown",
   "metadata": {},
   "source": [
    "* Create an empty dictionary.\n",
    "* Ask user for an input 3 times: key, value.\n",
    "* Add input values to the dict "
   ]
  },
  {
   "cell_type": "code",
   "execution_count": 1,
   "metadata": {},
   "outputs": [
    {
     "name": "stdout",
     "output_type": "stream",
     "text": [
      "{'a': '10', 'b': '20', 'c': '30'}\n"
     ]
    }
   ],
   "source": [
    "my_dict, ls, cnt = {}, [],  0\n",
    "\n",
    "while cnt < 3:\n",
    "    values = input(\"Please enter key, value pairs:\")\n",
    "    ls.append(values.split(' '))\n",
    "    cnt += 1\n",
    "\n",
    "my_dict = dict(ls)\n",
    "print(my_dict)"
   ]
  },
  {
   "cell_type": "code",
   "execution_count": null,
   "metadata": {},
   "outputs": [],
   "source": []
  },
  {
   "cell_type": "markdown",
   "metadata": {},
   "source": [
    "# **Tuples**"
   ]
  },
  {
   "cell_type": "markdown",
   "metadata": {},
   "source": [
    "*Tuples - an ordered sequnce of elements, tuples can't be change.* \n",
    "* Immutable object. \n",
    "* Can include elements of different types"
   ]
  },
  {
   "cell_type": "code",
   "execution_count": 4,
   "metadata": {},
   "outputs": [
    {
     "name": "stdout",
     "output_type": "stream",
     "text": [
      "Users inputs: (True, 'hi', '😀', 10.5)\n",
      "Type of users inputs var: <class 'tuple'>\n"
     ]
    }
   ],
   "source": [
    "# Structure and syntax:\n",
    "my_fruits = ('Apple', 'Banana', 'Lime')\n",
    "posts_id = (151, 245, 762, 167)\n",
    "user_inputs = (True, 'hi', '😀', 10.5)\n",
    "\n",
    "print('Users inputs:', user_inputs)\n",
    "print(f'Type of users inputs var: {type(user_inputs)}')"
   ]
  },
  {
   "cell_type": "markdown",
   "metadata": {},
   "source": [
    "*Order is important*"
   ]
  },
  {
   "cell_type": "code",
   "execution_count": 5,
   "metadata": {},
   "outputs": [
    {
     "name": "stdout",
     "output_type": "stream",
     "text": [
      "Does 2 object identical: False\n"
     ]
    }
   ],
   "source": [
    "my_fruits = ('Apple', 'Banana', 'Lime')\n",
    "my_fruits2 = ('Banana', 'Lime', 'Apple')\n",
    "\n",
    "# Check for identically:\n",
    "print('Does 2 object identical:', my_fruits == my_fruits2)"
   ]
  },
  {
   "cell_type": "markdown",
   "metadata": {},
   "source": [
    "*Size of the tuple will be calculated as len(tuple)*"
   ]
  },
  {
   "cell_type": "code",
   "execution_count": 8,
   "metadata": {},
   "outputs": [
    {
     "name": "stdout",
     "output_type": "stream",
     "text": [
      "Size of \"my_fruits\" tuple is: 3\n"
     ]
    }
   ],
   "source": [
    "print(f'Size of \"my_fruits\" tuple is: {len(my_fruits)}')"
   ]
  },
  {
   "cell_type": "code",
   "execution_count": 18,
   "metadata": {},
   "outputs": [
    {
     "name": "stdout",
     "output_type": "stream",
     "text": [
      "List of elements inside tuple:\n",
      "1: Apple\n",
      "2: Banana\n",
      "3: Lime\n",
      "\n",
      "Last element of the tuple: Lime\n"
     ]
    }
   ],
   "source": [
    "# Access to the tuples element: loop.\n",
    "print('List of elements inside tuple:')\n",
    "for l, elm in enumerate(my_fruits):\n",
    "    print(f'{l+1}: {elm}')\n",
    "\n",
    "# Access to the tuples element: Single access.\n",
    "print('\\nLast element of the tuple:', my_fruits[-1])"
   ]
  },
  {
   "cell_type": "markdown",
   "metadata": {},
   "source": [
    "**Although it's not possible to change tuple itself,  those elements that are mutable can be modified**"
   ]
  },
  {
   "cell_type": "code",
   "execution_count": 20,
   "metadata": {},
   "outputs": [
    {
     "name": "stdout",
     "output_type": "stream",
     "text": [
      "({'user_id': 134, 'user_name': 'Alice'}, {'user_id': 831, 'user_name': 'Bob'})\n"
     ]
    }
   ],
   "source": [
    "# Define new tuple consist of 2 dict:\n",
    "users = (\n",
    "    {\n",
    "        'user_id': 134,\n",
    "        'user_name': 'Alice'\n",
    "    },\n",
    "    {\n",
    "        'user_id': 831,\n",
    "        'user_name': 'Bob'\n",
    "    }\n",
    ")\n",
    "\n",
    "print(users)"
   ]
  },
  {
   "cell_type": "code",
   "execution_count": 23,
   "metadata": {},
   "outputs": [
    {
     "name": "stdout",
     "output_type": "stream",
     "text": [
      "831\n",
      "157\n"
     ]
    }
   ],
   "source": [
    "# Let's try modify internal elemnt of the tuple\n",
    "print(users[1]['user_id'])\n",
    "\n",
    "users[1]['user_id'] = 157\n",
    "print(users[1]['user_id'])"
   ]
  },
  {
   "cell_type": "markdown",
   "metadata": {},
   "source": [
    "## Methods of tuples"
   ]
  },
  {
   "cell_type": "code",
   "execution_count": 32,
   "metadata": {},
   "outputs": [
    {
     "name": "stdout",
     "output_type": "stream",
     "text": [
      "Total number of appeances: 3\n",
      "Index inside the tuple: 3\n"
     ]
    }
   ],
   "source": [
    "# Counts how many times specific value, appear inside the tupple.\n",
    "my_fruits3 = ('Lime', 'Banana', 'Lime', 'Apple', 'Lime')\n",
    "print('Total number of appeances:', my_fruits3.count('Lime'))\n",
    "\n",
    "\n",
    "# Search for the first occurrence of the value , and return its position.\n",
    "print('Index inside the tuple:', my_fruits3.index('Apple'))"
   ]
  },
  {
   "cell_type": "markdown",
   "metadata": {},
   "source": [
    "## Convers to list"
   ]
  },
  {
   "cell_type": "code",
   "execution_count": 37,
   "metadata": {},
   "outputs": [
    {
     "name": "stdout",
     "output_type": "stream",
     "text": [
      "Converted list from tuple: ['Apple', 'Banana', 'Lime']\n",
      "Type: <class 'list'>\n",
      "New element added: ['Apple', 'Banana', 'Lime', 'Watermelon']\n"
     ]
    }
   ],
   "source": [
    "my_fruits_lst = list(my_fruits)\n",
    "print('Converted list from tuple:', my_fruits_lst)\n",
    "print('Type:', type(my_fruits_lst))\n",
    "\n",
    "# now we have access to different list methods.\n",
    "my_fruits_lst.append('Watermelon')\n",
    "print('New element added:', my_fruits_lst)"
   ]
  },
  {
   "cell_type": "code",
   "execution_count": 41,
   "metadata": {},
   "outputs": [
    {
     "name": "stdout",
     "output_type": "stream",
     "text": [
      "New created tuple: ('Apple', 'Banana', 'Lime', 'Watermelon')\n",
      "Type: <class 'tuple'>\n"
     ]
    }
   ],
   "source": [
    "# Now we can convert this list back to tuple. Notice its different object(id) now\n",
    "my_fruits = tuple(my_fruits_lst)\n",
    "\n",
    "print('New created tuple:', my_fruits)\n",
    "print('Type:', type(my_fruits))"
   ]
  },
  {
   "cell_type": "markdown",
   "metadata": {},
   "source": [
    "# **Sets**"
   ]
  },
  {
   "cell_type": "markdown",
   "metadata": {},
   "source": [
    "*definition: unordered sequence of elements:*\n",
    "* Order does not matter\n",
    "* Set contains only unique elements.\n",
    "* Mutable - you **can** change sets.\n",
    "* Usually contain objects of the same type."
   ]
  },
  {
   "cell_type": "markdown",
   "metadata": {},
   "source": []
  },
  {
   "cell_type": "code",
   "execution_count": 46,
   "metadata": {},
   "outputs": [
    {
     "name": "stdout",
     "output_type": "stream",
     "text": [
      "Type of the object: <class 'set'>\n",
      "{'Apple', 'Banana', 'Lime'}\n"
     ]
    }
   ],
   "source": [
    "# define set by {} brackets - doesn't include key:value structure.\n",
    "my_fruits_set = {'Apple', 'Banana', 'Lime'}\n",
    "\n",
    "print(f'Type of the object: {type(my_fruits_set)}')\n",
    "print(my_fruits_set)"
   ]
  },
  {
   "cell_type": "code",
   "execution_count": 48,
   "metadata": {},
   "outputs": [
    {
     "name": "stdout",
     "output_type": "stream",
     "text": [
      "Does the object {'Apple', 'Banana', 'Lime'} << and >> {'Apple', 'Banana', 'Lime'} identical?\n",
      "True\n"
     ]
    }
   ],
   "source": [
    "# Order does not matter:\n",
    "my_fruits_set = {'Apple', 'Banana', 'Lime'}\n",
    "my_fruits_set2 = {'Banana', 'Lime', 'Apple'}\n",
    "\n",
    "print(\n",
    "    f'Does the object {my_fruits_set} << and >> {my_fruits_set2} identical?\\n{my_fruits_set==my_fruits_set2}')"
   ]
  },
  {
   "cell_type": "code",
   "execution_count": 50,
   "metadata": {},
   "outputs": [
    {
     "name": "stdout",
     "output_type": "stream",
     "text": [
      "{151, 245, 167}\n"
     ]
    }
   ],
   "source": [
    "# this set contains duplicates\n",
    "posts_id_set = {151, 245, 167, 167, 151}\n",
    "\n",
    "# After creation only unique value exists in the variable.\n",
    "print(posts_id_set)"
   ]
  },
  {
   "cell_type": "markdown",
   "metadata": {},
   "source": [
    "*⬆️ In the upper example no error was rised - it just filtered out the duplicates*"
   ]
  },
  {
   "cell_type": "markdown",
   "metadata": {},
   "source": [
    "*Sets has no indexes - post_id_set[0] generates an error*"
   ]
  },
  {
   "cell_type": "code",
   "execution_count": 51,
   "metadata": {},
   "outputs": [
    {
     "ename": "TypeError",
     "evalue": "unhashable type: 'list'",
     "output_type": "error",
     "traceback": [
      "\u001b[1;31m---------------------------------------------------------------------------\u001b[0m",
      "\u001b[1;31mTypeError\u001b[0m                                 Traceback (most recent call last)",
      "\u001b[1;32mc:\\Users\\Alexey\\Documents\\Data Engineering Python\\Lesson 3\\Complete Python, Django, Data Science and ML Guide.ipynb Cell 71\u001b[0m line \u001b[0;36m2\n\u001b[0;32m      <a href='vscode-notebook-cell:/c%3A/Users/Alexey/Documents/Data%20Engineering%20Python/Lesson%203/Complete%20Python%2C%20Django%2C%20Data%20Science%20and%20ML%20Guide.ipynb#Y140sZmlsZQ%3D%3D?line=0'>1</a>\u001b[0m \u001b[39m# Mutable object inside the sets:\u001b[39;00m\n\u001b[1;32m----> <a href='vscode-notebook-cell:/c%3A/Users/Alexey/Documents/Data%20Engineering%20Python/Lesson%203/Complete%20Python%2C%20Django%2C%20Data%20Science%20and%20ML%20Guide.ipynb#Y140sZmlsZQ%3D%3D?line=1'>2</a>\u001b[0m list_set \u001b[39m=\u001b[39m {[\u001b[39m1\u001b[39m, \u001b[39m2\u001b[39m], [\u001b[39m20\u001b[39m, \u001b[39m5\u001b[39m]}\n",
      "\u001b[1;31mTypeError\u001b[0m: unhashable type: 'list'"
     ]
    }
   ],
   "source": [
    "# Mutable object inside the sets:\n",
    "list_set = {[1, 2], [20, 5]}"
   ]
  },
  {
   "cell_type": "markdown",
   "metadata": {},
   "source": [
    "You can't add mutable object such as list, dict, set the sets: #TypeError: unhashable type: 'list'\n",
    "\n",
    "Set should consists of unique elements only, thus Python should check uniqueness of all the element. For this purpose, Python generates hash and check uniquness of all the elements. However, he can not create a hash for mutable object since they can be changed often."
   ]
  },
  {
   "cell_type": "markdown",
   "metadata": {},
   "source": [
    "del function also prohibited, since set has not indexes."
   ]
  },
  {
   "cell_type": "markdown",
   "metadata": {},
   "source": [
    "## Sets: Practice 1"
   ]
  },
  {
   "cell_type": "code",
   "execution_count": 54,
   "metadata": {},
   "outputs": [
    {
     "name": "stdout",
     "output_type": "stream",
     "text": [
      "Set: {100, 10, 20, 5}\n",
      "Type: <class 'set'>\n",
      "Does my_set is instance of set class: True\n",
      "\n",
      "Lenght of the set is: 4\n"
     ]
    }
   ],
   "source": [
    "# create new set:\n",
    "my_set = {10, 5, 5, 100, 10, 20}\n",
    "\n",
    "print('Set:', my_set)\n",
    "print('Type:', type(my_set))\n",
    "print('Does my_set is instance of set class:', isinstance(my_set, set))\n",
    "print('\\nLenght of the set is:', len(my_set))"
   ]
  },
  {
   "cell_type": "code",
   "execution_count": 56,
   "metadata": {},
   "outputs": [
    {
     "ename": "TypeError",
     "evalue": "'set' object is not subscriptable",
     "output_type": "error",
     "traceback": [
      "\u001b[1;31m---------------------------------------------------------------------------\u001b[0m",
      "\u001b[1;31mTypeError\u001b[0m                                 Traceback (most recent call last)",
      "\u001b[1;32mc:\\Users\\Alexey\\Documents\\Data Engineering Python\\Lesson 3\\Complete Python, Django, Data Science and ML Guide.ipynb Cell 76\u001b[0m line \u001b[0;36m2\n\u001b[0;32m      <a href='vscode-notebook-cell:/c%3A/Users/Alexey/Documents/Data%20Engineering%20Python/Lesson%203/Complete%20Python%2C%20Django%2C%20Data%20Science%20and%20ML%20Guide.ipynb#Y151sZmlsZQ%3D%3D?line=0'>1</a>\u001b[0m \u001b[39m# set has no indexes, thus read specific elemnt by [index] is not possible.\u001b[39;00m\n\u001b[1;32m----> <a href='vscode-notebook-cell:/c%3A/Users/Alexey/Documents/Data%20Engineering%20Python/Lesson%203/Complete%20Python%2C%20Django%2C%20Data%20Science%20and%20ML%20Guide.ipynb#Y151sZmlsZQ%3D%3D?line=1'>2</a>\u001b[0m \u001b[39mprint\u001b[39m(my_set[\u001b[39m0\u001b[39;49m])\n",
      "\u001b[1;31mTypeError\u001b[0m: 'set' object is not subscriptable"
     ]
    }
   ],
   "source": [
    "# set has no indexes, thus read specific elemnt by [index] is not possible.\n",
    "print(my_set[0])"
   ]
  },
  {
   "cell_type": "code",
   "execution_count": 58,
   "metadata": {},
   "outputs": [
    {
     "name": "stdout",
     "output_type": "stream",
     "text": [
      "<class 'set'>\n"
     ]
    }
   ],
   "source": [
    "# creatin of an empty set:\n",
    "my_set = set()\n",
    "print(type(my_set))\n",
    "\n",
    "# {} will create a dictionary..."
   ]
  },
  {
   "cell_type": "markdown",
   "metadata": {},
   "source": [
    "## Methods of sets"
   ]
  },
  {
   "cell_type": "code",
   "execution_count": 59,
   "metadata": {},
   "outputs": [
    {
     "name": "stdout",
     "output_type": "stream",
     "text": [
      "{'Apple', 'Banana', 'strawberry', 'Lime'}\n"
     ]
    }
   ],
   "source": [
    "# Add - add new element to set:\n",
    "my_fruits_set.add('strawberry')\n",
    "print(my_fruits_set)"
   ]
  },
  {
   "cell_type": "code",
   "execution_count": 61,
   "metadata": {},
   "outputs": [
    {
     "name": "stdout",
     "output_type": "stream",
     "text": [
      "{'Apple', 'Banana', 'strawberry', 'Orange', 'Lime'}\n"
     ]
    }
   ],
   "source": [
    "# Union - union 2 sets (filter out duplicates)\n",
    "my_fruits_set2 = {'Apple', 'Orange'}\n",
    "my_fruits_set = my_fruits_set.union(my_fruits_set2)\n",
    "\n",
    "print(my_fruits_set)"
   ]
  },
  {
   "cell_type": "markdown",
   "metadata": {},
   "source": [
    "*The discard() method removes the specified item from the set. This method is different from the remove() method, because the remove() method will raise an error if the specified item does not exist, and the discard() method will not.*"
   ]
  },
  {
   "cell_type": "code",
   "execution_count": 63,
   "metadata": {},
   "outputs": [],
   "source": [
    "# discard element from the list\n",
    "my_fruits_set.discard('Orange')"
   ]
  },
  {
   "cell_type": "code",
   "execution_count": 105,
   "metadata": {},
   "outputs": [
    {
     "name": "stdout",
     "output_type": "stream",
     "text": [
      "Intersection between two sets: {'Apple'}\n",
      "Difference between two sets: {'Banana', 'strawberry', 'Lime'}\n"
     ]
    },
    {
     "data": {
      "text/html": [
       "<img src=\"https://media.geeksforgeeks.org/wp-content/cdn-uploads/set-difference.jpg\" width=\"200\" height=\"150\"/>"
      ],
      "text/plain": [
       "<IPython.core.display.Image object>"
      ]
     },
     "execution_count": 105,
     "metadata": {},
     "output_type": "execute_result"
    }
   ],
   "source": [
    "from IPython.display import Image\n",
    "# finds intersection between those two sets.\n",
    "print('Intersection between two sets:',\n",
    "      my_fruits_set.intersection(my_fruits_set2))\n",
    "\n",
    "# in case of non intersected elements, return blank set >> {}\n",
    "\n",
    "# Difference: similar to left outer join set(A - B), returns values of the set A only!!\n",
    "print('Difference between two sets:', my_fruits_set.difference(my_fruits_set2))\n",
    "\n",
    "Image(url=\"https://media.geeksforgeeks.org/wp-content/cdn-uploads/set-difference.jpg\",\n",
    "      height=150, width=200)"
   ]
  },
  {
   "cell_type": "markdown",
   "metadata": {},
   "source": [
    "* .clear()  - removes all elements from the set.\n",
    "* .copy()   - create grand new copy from oroginal sets, changes of copy will not affect original set\n",
    "* .update() - copy elements from one set to another.\n",
    "* .pop()    - return random element from the set (return that element)"
   ]
  },
  {
   "cell_type": "code",
   "execution_count": 75,
   "metadata": {},
   "outputs": [
    {
     "name": "stdout",
     "output_type": "stream",
     "text": [
      "Is sub set: True\n",
      "Is sub set: False\n"
     ]
    }
   ],
   "source": [
    "# .issubset(): all the elemnt from smaller set included in bigger set\n",
    "nums = {10, 5, 35}\n",
    "other_nums = {20, 5, 12, 10, 35}\n",
    "\n",
    "print('Is sub set:', nums.issubset(other_nums))\n",
    "\n",
    "\n",
    "nums = {10, 5, 35}\n",
    "other_nums = {20, 5, 12, 35}\n",
    "\n",
    "print('Is sub set:', nums.issubset(other_nums))"
   ]
  },
  {
   "cell_type": "code",
   "execution_count": 78,
   "metadata": {},
   "outputs": [
    {
     "name": "stdout",
     "output_type": "stream",
     "text": [
      "Is super set: True\n"
     ]
    }
   ],
   "source": [
    "# .issuperset(): all the numbers from the bigger set included in smaller set.\n",
    "nums = {20, 5, 12, 10, 35}\n",
    "other_nums = {10, 5, 35}\n",
    "print('Is super set:', nums.issuperset(other_nums))"
   ]
  },
  {
   "cell_type": "code",
   "execution_count": 79,
   "metadata": {},
   "outputs": [
    {
     "name": "stdout",
     "output_type": "stream",
     "text": [
      "{'l', 'm', 'a', 'd'}\n"
     ]
    }
   ],
   "source": [
    "# Returns all elements, except the intersection.\n",
    "my_set = {'a', 'c', 'd'}\n",
    "other_set = {'l', 'm', 'c'}\n",
    "\n",
    "print(my_set.symmetric_difference(other_set))"
   ]
  },
  {
   "cell_type": "code",
   "execution_count": 100,
   "metadata": {},
   "outputs": [
    {
     "name": "stdout",
     "output_type": "stream",
     "text": [
      "Sets are unique? \n",
      "False {'c'}\n"
     ]
    }
   ],
   "source": [
    "# returns True if none of the items are present in both sets, otherwise it returns False.\n",
    "my_set = {'a', 'c', 'd'}\n",
    "other_set = {'l', 'm', 'c'}\n",
    "\n",
    "print(\n",
    "    f'Sets are unique? \\n{my_set.isdisjoint(other_set)} {my_set.intersection(other_set) if my_set.isdisjoint(other_set) == False else \"\"}')"
   ]
  },
  {
   "cell_type": "code",
   "execution_count": 93,
   "metadata": {},
   "outputs": [
    {
     "name": "stdout",
     "output_type": "stream",
     "text": [
      "Sets are unique? \n",
      "True \n"
     ]
    }
   ],
   "source": [
    "my_set = {'a', 'd'}\n",
    "other_set = {'l', 'm'}\n",
    "\n",
    "print(\n",
    "    f'Sets are unique? \\n{my_set.isdisjoint(other_set)} {my_set.intersection(other_set) if my_set.isdisjoint(other_set) == False else \"\"}')"
   ]
  },
  {
   "cell_type": "markdown",
   "metadata": {},
   "source": [
    "## Task:"
   ]
  },
  {
   "cell_type": "code",
   "execution_count": 91,
   "metadata": {},
   "outputs": [
    {
     "name": "stdout",
     "output_type": "stream",
     "text": [
      "{1, 2, 5, 6, 11}\n"
     ]
    }
   ],
   "source": [
    "# Create a set of several elements of int type\n",
    "set_task1 = {1, 2, 5, 6}\n",
    "\n",
    "# Add new element to the set\n",
    "set_task1.add(11)\n",
    "\n",
    "print(set_task1)"
   ]
  },
  {
   "cell_type": "code",
   "execution_count": 98,
   "metadata": {},
   "outputs": [
    {
     "name": "stdout",
     "output_type": "stream",
     "text": [
      "Common Set: {1, 2, 5, 6}\n",
      "List from common set: [1, 2, 5, 6]\n"
     ]
    }
   ],
   "source": [
    "# create another set with several elemnts some of wich  should be the same as the first set\n",
    "set_task2 = {2, 5, 13, 1, 6, 42}\n",
    "\n",
    "# find common elemnts in two setsand place them in a new set:\n",
    "set_common = set_task1.intersection(set_task2)\n",
    "print('Common Set:', set_common)\n",
    "\n",
    "# convert common set to list:\n",
    "set_common_list = list(set_common)\n",
    "print('List from common set:', set_common_list)"
   ]
  },
  {
   "cell_type": "markdown",
   "metadata": {},
   "source": [
    "# **Ranges**"
   ]
  },
  {
   "cell_type": "markdown",
   "metadata": {},
   "source": []
  }
 ],
 "metadata": {
  "kernelspec": {
   "display_name": "Python 3",
   "language": "python",
   "name": "python3"
  },
  "language_info": {
   "codemirror_mode": {
    "name": "ipython",
    "version": 3
   },
   "file_extension": ".py",
   "mimetype": "text/x-python",
   "name": "python",
   "nbconvert_exporter": "python",
   "pygments_lexer": "ipython3",
   "version": "3.11.5"
  },
  "orig_nbformat": 4
 },
 "nbformat": 4,
 "nbformat_minor": 2
}
