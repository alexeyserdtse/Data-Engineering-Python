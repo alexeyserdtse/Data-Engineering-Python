{
 "cells": [
  {
   "cell_type": "code",
   "execution_count": 67,
   "metadata": {},
   "outputs": [
    {
     "name": "stdout",
     "output_type": "stream",
     "text": [
      "USD: 3.846\n",
      "GBP: 4.802\n",
      "JPY: 0.026\n",
      "EUR: 4.108\n",
      "AUD: 2.455\n",
      "CAD: 2.814\n",
      "SEK: 0.341\n",
      "CHF: 4.314\n"
     ]
    }
   ],
   "source": [
    "import yfinance as yf\n",
    "import pandas as pd\n",
    "\n",
    "\n",
    "def change_rate(currency):\n",
    "    # Replace 'USD' with the base currency and 'EUR' with the target currency\n",
    "    base = currency\n",
    "    target = \"ILS\"\n",
    "\n",
    "    # Create a Ticker object for the currency pair\n",
    "    currency_pair = f\"{base}{target}=X\"\n",
    "\n",
    "    historical_data = yf.download(\n",
    "        currency_pair, period=\"1d\", interval=\"1m\", progress=False)\n",
    "\n",
    "    # Print the most recent exchange rate\n",
    "    latest_rate = historical_data['Close'].iloc[-1]\n",
    "    return latest_rate\n",
    "\n",
    "\n",
    "def append_To_change_rate_df(dest_df, currency):\n",
    "    # Create new df with current currecy change rate.\n",
    "    data = {'Currency': [currency.upper()],\n",
    "            'Rate': [change_rate(currency)]}\n",
    "\n",
    "    data_df = pd.DataFrame(data)\n",
    "\n",
    "    df = pd.concat(\n",
    "        [dest_df, data_df], ignore_index=True)\n",
    "\n",
    "    return df\n",
    "\n",
    "\n",
    "if __name__ == '__main__':\n",
    "    column_names = [\"Currency\", \"Rate\"]\n",
    "    today_change_rate_df = pd.DataFrame(columns=column_names)\n",
    "\n",
    "    currency_list = ['USD', 'GBP', 'JPY', 'EUR', 'AUD', 'CAD', 'SEK', 'CHF']\n",
    "\n",
    "    for currency in currency_list:\n",
    "        today_change_rate_df = append_To_change_rate_df(\n",
    "            today_change_rate_df, currency)\n",
    "\n",
    "    today_change_rate_df['Update_date'] = "
   ]
  },
  {
   "cell_type": "code",
   "execution_count": null,
   "metadata": {},
   "outputs": [],
   "source": []
  }
 ],
 "metadata": {
  "kernelspec": {
   "display_name": "Python 3",
   "language": "python",
   "name": "python3"
  },
  "language_info": {
   "codemirror_mode": {
    "name": "ipython",
    "version": 3
   },
   "file_extension": ".py",
   "mimetype": "text/x-python",
   "name": "python",
   "nbconvert_exporter": "python",
   "pygments_lexer": "ipython3",
   "version": "3.11.5"
  },
  "orig_nbformat": 4
 },
 "nbformat": 4,
 "nbformat_minor": 2
}
