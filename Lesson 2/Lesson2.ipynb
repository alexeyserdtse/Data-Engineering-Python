{
 "cells": [
  {
   "cell_type": "markdown",
   "metadata": {},
   "source": [
    "# Lesson 2: Naya Collage - Cloud Big Data Engineer "
   ]
  },
  {
   "cell_type": "markdown",
   "metadata": {},
   "source": [
    "### Lesson Content\n",
    "1. f string - format & mask\n",
    "    * Examples\n",
    "    * Exc: f string format - IP Address\n",
    "2. Lists"
   ]
  },
  {
   "cell_type": "markdown",
   "metadata": {},
   "source": [
    "### Format strings"
   ]
  },
  {
   "cell_type": "code",
   "execution_count": 1,
   "metadata": {
    "tags": []
   },
   "outputs": [
    {
     "name": "stdout",
     "output_type": "stream",
     "text": [
      "My IP adress is 185.56.73.85\n"
     ]
    }
   ],
   "source": [
    "# Print IP Address\n",
    "o1, o2, o3, o4 = 185, 56, 73, 85\n",
    "print(f'My IP adress is {o1}.{o2}.{o3}.{o4}')"
   ]
  },
  {
   "cell_type": "code",
   "execution_count": 2,
   "metadata": {
    "tags": []
   },
   "outputs": [
    {
     "name": "stdout",
     "output_type": "stream",
     "text": [
      " 32123581\n",
      "032123581\n"
     ]
    }
   ],
   "source": [
    "# set mask of 9 digts:\n",
    "# https://fstring.help/cheat/\n",
    "\n",
    "print(\"{:9}\".format(32123581))\n",
    "print(\"{:09}\".format(32123581))"
   ]
  },
  {
   "cell_type": "code",
   "execution_count": 6,
   "metadata": {
    "tags": []
   },
   "outputs": [
    {
     "name": "stdout",
     "output_type": "stream",
     "text": [
      "Print change rate 29.9%\n"
     ]
    }
   ],
   "source": [
    "d1, d2 = 153536, 199442\n",
    "change_rate = d2/d1 - 1\n",
    "\n",
    "# Print\n",
    "print(f\"Print change rate {change_rate:.1%}\")"
   ]
  },
  {
   "cell_type": "markdown",
   "metadata": {},
   "source": [
    "#### Exercise: f string format"
   ]
  },
  {
   "cell_type": "code",
   "execution_count": 4,
   "metadata": {
    "tags": []
   },
   "outputs": [
    {
     "name": "stdout",
     "output_type": "stream",
     "text": [
      "My IP adress is 185. 56. 73. 85\n",
      "My IP adress is 185.056.073.085\n",
      "My IP adress is b9.38.49.55\n"
     ]
    }
   ],
   "source": [
    "# Exercise: f string format\n",
    "o1, o2, o3, o4 = 185, 56, 73, 85\n",
    "\n",
    "# Keep  up to 3 sspaces for each octet.\n",
    "print(f'My IP adress is {o1:3}.{o2:3}.{o3:3}.{o4:3}')\n",
    "\n",
    "# Keep leading zeros.\n",
    "print(f'My IP adress is {o1:03}.{o2:03}.{o3:03}.{o4:03}')\n",
    "\n",
    "# Convert to Hex numbers.\n",
    "print(f'My IP adress is {o1:x}.{o2:x}.{o3:x}.{o4:x}')"
   ]
  },
  {
   "cell_type": "markdown",
   "metadata": {},
   "source": [
    "### Lists"
   ]
  },
  {
   "cell_type": "code",
   "execution_count": 9,
   "metadata": {},
   "outputs": [
    {
     "data": {
      "text/plain": [
       "[185, 56, 73, 85, 888]"
      ]
     },
     "execution_count": 9,
     "metadata": {},
     "output_type": "execute_result"
    }
   ],
   "source": [
    "my_ip = [185, 56, 73, 85]\n",
    "\n",
    "# Add element: res = [185, 56, 73, 85, 888]\n",
    "my_ip.append(888)\n",
    "\n",
    "my_ip"
   ]
  },
  {
   "cell_type": "code",
   "execution_count": 10,
   "metadata": {},
   "outputs": [
    {
     "name": "stdout",
     "output_type": "stream",
     "text": [
      "<class 'NoneType'>\n"
     ]
    }
   ],
   "source": [
    "print(type(my_ip.sort()))"
   ]
  },
  {
   "cell_type": "code",
   "execution_count": 17,
   "metadata": {},
   "outputs": [
    {
     "name": "stdout",
     "output_type": "stream",
     "text": [
      "['landscape', 'the', 'over', 'glow', 'peaceful', 'and', 'warm', 'a', 'casting', 'pink,', 'and', 'orange', 'of', 'shades', 'in', 'sky', 'the', 'painted', 'sunset', 'the', 'of', 'colors', 'vibrant', 'The']\n",
      "landscape the over glow peaceful and warm a casting pink, and orange of shades in sky the painted sunset the of colors vibrant The\n"
     ]
    }
   ],
   "source": [
    "# get single input:\n",
    "\n",
    "sn = input(\"Please enter your sentence: \")\n",
    "# The vibrant colors of the sunset painted the sky in shades of orange and pink, casting a warm and peaceful glow over the landscape\n",
    "\n",
    "# Split the sentence:\n",
    "ls = sn.split()\n",
    "\n",
    "print(ls[::-1])\n",
    "\n",
    "rev_ls = ' '.join(ls[::-1])\n",
    "print(rev_ls)"
   ]
  },
  {
   "cell_type": "code",
   "execution_count": null,
   "metadata": {},
   "outputs": [],
   "source": []
  }
 ],
 "metadata": {
  "kernelspec": {
   "display_name": "Python 3",
   "language": "python",
   "name": "python3"
  },
  "language_info": {
   "codemirror_mode": {
    "name": "ipython",
    "version": 3
   },
   "file_extension": ".py",
   "mimetype": "text/x-python",
   "name": "python",
   "nbconvert_exporter": "python",
   "pygments_lexer": "ipython3",
   "version": "3.11.5"
  },
  "orig_nbformat": 4
 },
 "nbformat": 4,
 "nbformat_minor": 2
}
