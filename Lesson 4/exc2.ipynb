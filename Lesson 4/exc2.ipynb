{
 "cells": [
  {
   "cell_type": "code",
   "execution_count": 2,
   "metadata": {},
   "outputs": [],
   "source": [
    "with open(\"ANNA KARENINA.txt\", 'rt', encoding=\"utf8\") as f:\n",
    "    paragraphs = f.readlines()"
   ]
  },
  {
   "cell_type": "code",
   "execution_count": 3,
   "metadata": {},
   "outputs": [
    {
     "name": "stdout",
     "output_type": "stream",
     "text": [
      "line0: ANNA KARENINA\n",
      "\n",
      "line1: by Leo Tolstoy\n",
      "\n",
      "line2: \n",
      "\n",
      "line3: \n",
      "\n",
      "line4: PART ONE\n",
      "\n",
      "line5: Chapter 1\n",
      "\n",
      "line6: Happy families are all alike; every unhappy family is unhappy in its own way.\n",
      "\n",
      "line7: \n",
      "\n",
      "line8: Everything was in confusion in the Oblonskys’ house. The wife had discovered that the husband was carrying on an intrigue with a French girl, who had been a governess in their family, and she had announced to her husband that she could not go on living in the same house with him. This position of affairs had now lasted three days, and not only the husband and wife themselves, but all the members of their family and household, were painfully conscious of it. Every person in the house felt that there was no sense in their living together, and that the stray people brought together by chance in any inn had more in common with one another than they, the members of the family and household of the Oblonskys. The wife did not leave her own room, the husband had not been at home for three days. The children ran wild all over the house; the English governess quarreled with the housekeeper, and wrote to a friend asking her to look out for a new situation for her; the man-cook had walked off the day before just at dinner time; the kitchen-maid, and the coachman had given warning.\n",
      "\n",
      "line9: \n",
      "\n"
     ]
    }
   ],
   "source": [
    "for i, line in enumerate(paragraphs[:10]):\n",
    "    print(f'line{i}: {line}')"
   ]
  },
  {
   "cell_type": "code",
   "execution_count": 3,
   "metadata": {},
   "outputs": [
    {
     "name": "stdout",
     "output_type": "stream",
     "text": [
      "['PART ONE\\n', 'Chapter 1\\n', 'Chapter 2\\n', 'Chapter 3\\n', 'Chapter 4\\n', 'Chapter 5\\n', 'Chapter 6\\n', 'Chapter 7\\n', 'Chapter 8\\n', 'Chapter 9\\n', 'Chapter 10\\n', 'Chapter 11\\n', 'Chapter 12\\n', 'Chapter 13\\n', 'Chapter 14\\n', 'Chapter 15\\n', 'Chapter 16\\n', 'Chapter 17\\n', 'Chapter 18\\n', 'Chapter 19\\n', 'Chapter 20\\n', 'Chapter 21\\n', 'Chapter 22\\n', 'Chapter 23\\n', 'Chapter 24\\n', 'Chapter 25\\n', 'Chapter 26\\n', 'Chapter 27\\n', 'Chapter 28\\n', 'Chapter 29\\n', 'Chapter 30\\n', 'Chapter 31\\n', 'Chapter 32\\n', 'Chapter 33\\n', 'Chapter 34\\n', 'PART TWO\\n', 'Chapter 1\\n', 'Chapter 2\\n', 'Chapter 3\\n', 'Chapter 4\\n', 'Chapter 5\\n', 'Chapter 6\\n', 'Chapter 7\\n', 'Chapter 8\\n', 'Chapter 9\\n', 'Chapter 10\\n', 'Chapter 11\\n', 'Chapter 12\\n', 'Chapter 13\\n', 'Chapter 14\\n', 'Chapter 15\\n', 'Chapter 16\\n', 'Chapter 17\\n', 'Chapter 18\\n', 'Chapter 19\\n', 'Chapter 20\\n', 'Chapter 21\\n', 'Chapter 22\\n', 'Chapter 23\\n', 'Chapter 24\\n', 'Chapter 25\\n', 'Chapter 26\\n', 'Chapter 27\\n', 'Chapter 28\\n', 'Chapter 29\\n', 'Chapter 30\\n', 'Chapter 31\\n', 'Chapter 32\\n', 'Chapter 33\\n', 'Chapter 34\\n', 'Chapter 35\\n', 'PART THREE\\n', 'Chapter 1\\n', 'Chapter 2\\n', 'Chapter 3\\n', 'Chapter 4\\n', 'Chapter 5\\n', 'Chapter 6\\n', 'Chapter 7\\n', 'Chapter 8\\n', 'Chapter 9\\n', 'Chapter 10\\n', 'Chapter 11\\n', 'Chapter 12\\n', 'Chapter 13\\n', 'Chapter 14\\n', 'Chapter 15\\n', 'Chapter 16\\n', 'Chapter 17\\n', 'Chapter 18\\n', 'Chapter 19\\n', 'Chapter 20\\n', 'Chapter 21\\n', 'Chapter 22\\n', 'Chapter 23\\n', 'Chapter 24\\n', 'Chapter 25\\n', 'Chapter 26\\n', 'Chapter 27\\n', 'Chapter 28\\n', 'Chapter 29\\n', 'Chapter 30\\n', 'Chapter 31\\n', 'Chapter 32\\n', 'PART FOUR\\n', 'Chapter 1\\n', 'Chapter 2\\n', 'Chapter 3\\n', 'Chapter 4\\n', 'Chapter 5\\n', 'Chapter 6\\n', 'Chapter 7\\n', 'Chapter 8\\n', 'Chapter 9\\n', 'Chapter 10\\n', 'Chapter 11\\n', 'Chapter 12\\n', 'Chapter 13\\n', 'Chapter 14\\n', 'Chapter 15\\n', 'Chapter 16\\n', 'Chapter 17\\n', 'Chapter 18\\n', 'Chapter 19\\n', 'Chapter 20\\n', 'Chapter 21\\n', 'Chapter 22\\n', 'Chapter 23\\n', 'PART FIVE\\n', 'Chapter 1\\n', 'Chapter 2\\n', 'Chapter 3\\n', 'Chapter 4\\n', 'Chapter 5\\n', 'Chapter 6\\n', 'Chapter 7\\n', 'Chapter 8\\n', 'Chapter 9\\n', 'Chapter 10\\n', 'Chapter 11\\n', 'Chapter 12\\n', 'Chapter 13\\n', 'Chapter 14\\n', 'Chapter 15\\n', 'Chapter 16\\n', 'Chapter 17\\n', 'Chapter 18\\n', 'Chapter 19\\n', 'Chapter 20\\n', 'Chapter 21\\n', 'Chapter 22\\n', 'Chapter 23\\n', 'Chapter 24\\n', 'Chapter 25\\n', 'Chapter 26\\n', 'Chapter 27\\n', 'Chapter 28\\n', 'Chapter 29\\n', 'Chapter 30\\n', 'Chapter 31\\n', 'Chapter 32\\n', 'Chapter 33\\n', 'PART SIX\\n', 'Chapter 1\\n', 'Chapter 2\\n', 'Chapter 3\\n', 'Chapter 4\\n', 'Chapter 5\\n', 'Chapter 6\\n', 'Chapter 7\\n', 'Chapter 8\\n', 'Chapter 9\\n', 'Chapter 10\\n', 'Chapter 11\\n', 'Chapter 12\\n', 'Chapter 13\\n', 'Chapter 14\\n', 'Chapter 15\\n', 'Chapter 16\\n', 'Chapter 17\\n', 'Chapter 18\\n', 'Chapter 19\\n', 'Chapter 20\\n', 'Chapter 21\\n', 'Chapter 22\\n', 'Chapter 23\\n', 'Chapter 24\\n', 'Chapter 25\\n', 'Chapter 26\\n', 'Chapter 27\\n', 'Chapter 28\\n', 'Chapter 29\\n', 'Chapter 30\\n', 'Chapter 31\\n', 'Chapter 32\\n', 'PART SEVEN\\n', 'Chapter 1\\n', 'Chapter 2\\n', 'Chapter 3\\n', 'Chapter 4\\n', 'Chapter 5\\n', 'Chapter 6\\n', 'Chapter 7\\n', 'Chapter 8\\n', 'Chapter 9\\n', 'Chapter 10\\n', 'Chapter 11\\n', 'Chapter 12\\n', 'Chapter 13\\n', 'Chapter 14\\n', 'Chapter 15\\n', 'Chapter 16\\n', 'Chapter 17\\n', 'Chapter 18\\n', 'Chapter 19\\n', 'Chapter 20\\n', 'Chapter 21\\n', 'Chapter 22\\n', 'Chapter 23\\n', 'Chapter 24\\n', 'Chapter 25\\n', 'Chapter 26\\n', 'Chapter 27\\n', 'Chapter 28\\n', 'Chapter 29\\n', 'Chapter 30\\n', 'Chapter 31\\n', 'PART EIGHT\\n', 'Chapter 1\\n', 'Chapter 2\\n', 'Chapter 3\\n', 'Chapter 4\\n', 'Chapter 5\\n', 'Chapter 6\\n', 'Chapter 7\\n', 'Chapter 8\\n', 'Chapter 9\\n', 'Chapter 10\\n', 'Chapter 11\\n', 'Chapter 12\\n', 'Chapter 13\\n', 'Chapter 14\\n', 'Chapter 15\\n', 'Chapter 16\\n', 'Chapter 17\\n', 'Chapter 18\\n', 'Chapter 19\\n']\n"
     ]
    }
   ],
   "source": [
    "# return list of lines include part or a chapter:\n",
    "ls1 = []\n",
    "\n",
    "for line in paragraphs:\n",
    "    if line.lower().startswith('chapter') or line.lower().startswith('part'):\n",
    "        ls1.append(line)\n",
    "\n",
    "print(ls1)"
   ]
  },
  {
   "cell_type": "code",
   "execution_count": 61,
   "metadata": {},
   "outputs": [
    {
     "name": "stdout",
     "output_type": "stream",
     "text": [
      "[[5, 'PART ONE\\n'], [6, 'Chapter 1\\n'], [37, 'Chapter 2\\n'], [108, 'Chapter 3\\n'], [167, 'Chapter 4\\n'], [256, 'Chapter 5\\n'], [411, 'Chapter 6\\n'], [430, 'Chapter 7\\n'], [459, 'Chapter 8\\n'], [522, 'Chapter 9\\n'], [649, 'Chapter 10\\n'], [822, 'Chapter 11\\n'], [913, 'Chapter 12\\n'], [950, 'Chapter 13\\n'], [991, 'Chapter 14\\n'], [1132, 'Chapter 15\\n'], [1173, 'Chapter 16\\n'], [1192, 'Chapter 17\\n'], [1269, 'Chapter 18\\n'], [1410, 'Chapter 19\\n'], [1519, 'Chapter 20\\n'], [1598, 'Chapter 21\\n'], [1651, 'Chapter 22\\n'], [1702, 'Chapter 23\\n'], [1757, 'Chapter 24\\n'], [1818, 'Chapter 25\\n'], [1959, 'Chapter 26\\n'], [1986, 'Chapter 27\\n'], [2013, 'Chapter 28\\n'], [2086, 'Chapter 29\\n'], [2099, 'Chapter 30\\n'], [2126, 'Chapter 31\\n'], [2171, 'Chapter 32\\n'], [2210, 'Chapter 33\\n'], [2263, 'Chapter 34\\n'], [2323, 'PART TWO\\n'], [2324, 'Chapter 1\\n'], [2391, 'Chapter 2\\n'], [2464, 'Chapter 3\\n'], [2531, 'Chapter 4\\n'], [2580, 'Chapter 5\\n'], [2633, 'Chapter 6\\n'], [2744, 'Chapter 7\\n'], [2899, 'Chapter 8\\n'], [2928, 'Chapter 9\\n'], [2993, 'Chapter 10\\n'], [2996, 'Chapter 11\\n'], [3025, 'Chapter 12\\n'], [3034, 'Chapter 13\\n'], [3169, 'Chapter 14\\n'], [3258, 'Chapter 15\\n'], [3327, 'Chapter 16\\n'], [3416, 'Chapter 17\\n'], [3491, 'Chapter 18\\n'], [3508, 'Chapter 19\\n'], [3583, 'Chapter 20\\n'], [3668, 'Chapter 21\\n'], [3743, 'Chapter 22\\n'], [3828, 'Chapter 23\\n'], [3885, 'Chapter 24\\n'], [3964, 'Chapter 25\\n'], [4007, 'Chapter 26\\n'], [4044, 'Chapter 27\\n'], [4101, 'Chapter 28\\n'], [4170, 'Chapter 29\\n'], [4265, 'Chapter 30\\n'], [4284, 'Chapter 31\\n'], [4363, 'Chapter 32\\n'], [4468, 'Chapter 33\\n'], [4511, 'Chapter 34\\n'], [4634, 'Chapter 35\\n'], [4768, 'PART THREE\\n'], [4769, 'Chapter 1\\n'], [4788, 'Chapter 2\\n'], [4825, 'Chapter 3\\n'], [4944, 'Chapter 4\\n'], [5043, 'Chapter 5\\n'], [5102, 'Chapter 6\\n'], [5179, 'Chapter 7\\n'], [5196, 'Chapter 8\\n'], [5257, 'Chapter 9\\n'], [5306, 'Chapter 10\\n'], [5411, 'Chapter 11\\n'], [5442, 'Chapter 12\\n'], [5477, 'Chapter 13\\n'], [5510, 'Chapter 14\\n'], [5531, 'Chapter 15\\n'], [5588, 'Chapter 16\\n'], [5627, 'Chapter 17\\n'], [5704, 'Chapter 18\\n'], [5773, 'Chapter 19\\n'], [5784, 'Chapter 20\\n'], [5805, 'Chapter 21\\n'], [5938, 'Chapter 22\\n'], [6019, 'Chapter 23\\n'], [6064, 'Chapter 24\\n'], [6075, 'Chapter 25\\n'], [6122, 'Chapter 26\\n'], [6159, 'Chapter 27\\n'], [6276, 'Chapter 28\\n'], [6345, 'Chapter 29\\n'], [6372, 'Chapter 30\\n'], [6421, 'Chapter 31\\n'], [6478, 'Chapter 32\\n'], [6544, 'PART FOUR\\n'], [6545, 'Chapter 1\\n'], [6562, 'Chapter 2\\n'], [6583, 'Chapter 3\\n'], [6712, 'Chapter 4\\n'], [6783, 'Chapter 5\\n'], [6876, 'Chapter 6\\n'], [6933, 'Chapter 7\\n'], [7002, 'Chapter 8\\n'], [7091, 'Chapter 9\\n'], [7188, 'Chapter 10\\n'], [7269, 'Chapter 11\\n'], [7300, 'Chapter 12\\n'], [7393, 'Chapter 13\\n'], [7472, 'Chapter 14\\n'], [7541, 'Chapter 15\\n'], [7594, 'Chapter 16\\n'], [7667, 'Chapter 17\\n'], [7784, 'Chapter 18\\n'], [7817, 'Chapter 19\\n'], [7922, 'Chapter 20\\n'], [7957, 'Chapter 21\\n'], [8032, 'Chapter 22\\n'], [8119, 'Chapter 23\\n'], [8191, 'PART FIVE\\n'], [8192, 'Chapter 1\\n'], [8275, 'Chapter 2\\n'], [8384, 'Chapter 3\\n'], [8423, 'Chapter 4\\n'], [8504, 'Chapter 5\\n'], [8569, 'Chapter 6\\n'], [8592, 'Chapter 7\\n'], [8671, 'Chapter 8\\n'], [8688, 'Chapter 9\\n'], [8723, 'Chapter 10\\n'], [8750, 'Chapter 11\\n'], [8801, 'Chapter 12\\n'], [8826, 'Chapter 13\\n'], [8851, 'Chapter 14\\n'], [8878, 'Chapter 15\\n'], [8925, 'Chapter 16\\n'], [8988, 'Chapter 17\\n'], [9065, 'Chapter 18\\n'], [9100, 'Chapter 19\\n'], [9139, 'Chapter 20\\n'], [9252, 'Chapter 21\\n'], [9281, 'Chapter 22\\n'], [9336, 'Chapter 23\\n'], [9363, 'Chapter 24\\n'], [9448, 'Chapter 25\\n'], [9501, 'Chapter 26\\n'], [9586, 'Chapter 27\\n'], [9637, 'Chapter 28\\n'], [9680, 'Chapter 29\\n'], [9767, 'Chapter 30\\n'], [9822, 'Chapter 31\\n'], [9871, 'Chapter 32\\n'], [9928, 'Chapter 33\\n'], [10076, 'PART SIX\\n'], [10077, 'Chapter 1\\n'], [10124, 'Chapter 2\\n'], [10267, 'Chapter 3\\n'], [10362, 'Chapter 4\\n'], [10373, 'Chapter 5\\n'], [10436, 'Chapter 6\\n'], [10523, 'Chapter 7\\n'], [10650, 'Chapter 8\\n'], [10719, 'Chapter 9\\n'], [10788, 'Chapter 10\\n'], [10871, 'Chapter 11\\n'], [11002, 'Chapter 12\\n'], [11039, 'Chapter 13\\n'], [11074, 'Chapter 14\\n'], [11173, 'Chapter 15\\n'], [11288, 'Chapter 16\\n'], [11327, 'Chapter 17\\n'], [11408, 'Chapter 18\\n'], [11479, 'Chapter 19\\n'], [11536, 'Chapter 20\\n'], [11621, 'Chapter 21\\n'], [11688, 'Chapter 22\\n'], [11811, 'Chapter 23\\n'], [11906, 'Chapter 24\\n'], [11973, 'Chapter 25\\n'], [11992, 'Chapter 26\\n'], [12017, 'Chapter 27\\n'], [12042, 'Chapter 28\\n'], [12089, 'Chapter 29\\n'], [12172, 'Chapter 30\\n'], [12289, 'Chapter 31\\n'], [12330, 'Chapter 32\\n'], [12412, 'PART SEVEN\\n'], [12413, 'Chapter 1\\n'], [12444, 'Chapter 2\\n'], [12549, 'Chapter 3\\n'], [12604, 'Chapter 4\\n'], [12671, 'Chapter 5\\n'], [12696, 'Chapter 6\\n'], [12743, 'Chapter 7\\n'], [12810, 'Chapter 8\\n'], [12879, 'Chapter 9\\n'], [12914, 'Chapter 10\\n'], [13015, 'Chapter 11\\n'], [13066, 'Chapter 12\\n'], [13107, 'Chapter 13\\n'], [13166, 'Chapter 14\\n'], [13245, 'Chapter 15\\n'], [13280, 'Chapter 16\\n'], [13327, 'Chapter 17\\n'], [13388, 'Chapter 18\\n'], [13445, 'Chapter 19\\n'], [13502, 'Chapter 20\\n'], [13563, 'Chapter 21\\n'], [13670, 'Chapter 22\\n'], [13697, 'Chapter 23\\n'], [13738, 'Chapter 24\\n'], [13841, 'Chapter 25\\n'], [13978, 'Chapter 26\\n'], [14027, 'Chapter 27\\n'], [14084, 'Chapter 28\\n'], [14163, 'Chapter 29\\n'], [14198, 'Chapter 30\\n'], [14215, 'Chapter 31\\n'], [14261, 'PART EIGHT\\n'], [14262, 'Chapter 1\\n'], [14309, 'Chapter 2\\n'], [14384, 'Chapter 3\\n'], [14421, 'Chapter 4\\n'], [14450, 'Chapter 5\\n'], [14485, 'Chapter 6\\n'], [14544, 'Chapter 7\\n'], [14567, 'Chapter 8\\n'], [14592, 'Chapter 9\\n'], [14621, 'Chapter 10\\n'], [14650, 'Chapter 11\\n'], [14691, 'Chapter 12\\n'], [14738, 'Chapter 13\\n'], [14779, 'Chapter 14\\n'], [14866, 'Chapter 15\\n'], [14941, 'Chapter 16\\n'], [14994, 'Chapter 17\\n'], [15039, 'Chapter 18\\n'], [15090, 'Chapter 19\\n']]\n"
     ]
    }
   ],
   "source": [
    "# return list include a line number and a line of part or a chapter:\n",
    "ls1 = []\n",
    "for l, line in enumerate(paragraphs):\n",
    "    if line.lower().startswith('chapter') or line.lower().startswith('part'):\n",
    "        ls1.append([l+1, line])\n",
    "\n",
    "print(ls1)"
   ]
  },
  {
   "cell_type": "code",
   "execution_count": 4,
   "metadata": {},
   "outputs": [
    {
     "name": "stdout",
     "output_type": "stream",
     "text": [
      "[[5, 'PART ONE\\n', 1, 0], [6, 'Chapter 1\\n', 1, 1], [37, 'Chapter 2\\n', 1, 2], [108, 'Chapter 3\\n', 1, 3], [167, 'Chapter 4\\n', 1, 4], [256, 'Chapter 5\\n', 1, 5], [411, 'Chapter 6\\n', 1, 6], [430, 'Chapter 7\\n', 1, 7], [459, 'Chapter 8\\n', 1, 8], [522, 'Chapter 9\\n', 1, 9], [649, 'Chapter 10\\n', 1, 10], [822, 'Chapter 11\\n', 1, 11], [913, 'Chapter 12\\n', 1, 12], [950, 'Chapter 13\\n', 1, 13], [991, 'Chapter 14\\n', 1, 14], [1132, 'Chapter 15\\n', 1, 15], [1173, 'Chapter 16\\n', 1, 16], [1192, 'Chapter 17\\n', 1, 17], [1269, 'Chapter 18\\n', 1, 18], [1410, 'Chapter 19\\n', 1, 19], [1519, 'Chapter 20\\n', 1, 20], [1598, 'Chapter 21\\n', 1, 21], [1651, 'Chapter 22\\n', 1, 22], [1702, 'Chapter 23\\n', 1, 23], [1757, 'Chapter 24\\n', 1, 24], [1818, 'Chapter 25\\n', 1, 25], [1959, 'Chapter 26\\n', 1, 26], [1986, 'Chapter 27\\n', 1, 27], [2013, 'Chapter 28\\n', 1, 28], [2086, 'Chapter 29\\n', 1, 29], [2099, 'Chapter 30\\n', 1, 30], [2126, 'Chapter 31\\n', 1, 31], [2171, 'Chapter 32\\n', 1, 32], [2210, 'Chapter 33\\n', 1, 33], [2263, 'Chapter 34\\n', 1, 34], [2323, 'PART TWO\\n', 2, 34], [2324, 'Chapter 1\\n', 2, 35], [2391, 'Chapter 2\\n', 2, 36], [2464, 'Chapter 3\\n', 2, 37], [2531, 'Chapter 4\\n', 2, 38], [2580, 'Chapter 5\\n', 2, 39], [2633, 'Chapter 6\\n', 2, 40], [2744, 'Chapter 7\\n', 2, 41], [2899, 'Chapter 8\\n', 2, 42], [2928, 'Chapter 9\\n', 2, 43], [2993, 'Chapter 10\\n', 2, 44], [2996, 'Chapter 11\\n', 2, 45], [3025, 'Chapter 12\\n', 2, 46], [3034, 'Chapter 13\\n', 2, 47], [3169, 'Chapter 14\\n', 2, 48], [3258, 'Chapter 15\\n', 2, 49], [3327, 'Chapter 16\\n', 2, 50], [3416, 'Chapter 17\\n', 2, 51], [3491, 'Chapter 18\\n', 2, 52], [3508, 'Chapter 19\\n', 2, 53], [3583, 'Chapter 20\\n', 2, 54], [3668, 'Chapter 21\\n', 2, 55], [3743, 'Chapter 22\\n', 2, 56], [3828, 'Chapter 23\\n', 2, 57], [3885, 'Chapter 24\\n', 2, 58], [3964, 'Chapter 25\\n', 2, 59], [4007, 'Chapter 26\\n', 2, 60], [4044, 'Chapter 27\\n', 2, 61], [4101, 'Chapter 28\\n', 2, 62], [4170, 'Chapter 29\\n', 2, 63], [4265, 'Chapter 30\\n', 2, 64], [4284, 'Chapter 31\\n', 2, 65], [4363, 'Chapter 32\\n', 2, 66], [4468, 'Chapter 33\\n', 2, 67], [4511, 'Chapter 34\\n', 2, 68], [4634, 'Chapter 35\\n', 2, 69], [4768, 'PART THREE\\n', 3, 69], [4769, 'Chapter 1\\n', 3, 70], [4788, 'Chapter 2\\n', 3, 71], [4825, 'Chapter 3\\n', 3, 72], [4944, 'Chapter 4\\n', 3, 73], [5043, 'Chapter 5\\n', 3, 74], [5102, 'Chapter 6\\n', 3, 75], [5179, 'Chapter 7\\n', 3, 76], [5196, 'Chapter 8\\n', 3, 77], [5257, 'Chapter 9\\n', 3, 78], [5306, 'Chapter 10\\n', 3, 79], [5411, 'Chapter 11\\n', 3, 80], [5442, 'Chapter 12\\n', 3, 81], [5477, 'Chapter 13\\n', 3, 82], [5510, 'Chapter 14\\n', 3, 83], [5531, 'Chapter 15\\n', 3, 84], [5588, 'Chapter 16\\n', 3, 85], [5627, 'Chapter 17\\n', 3, 86], [5704, 'Chapter 18\\n', 3, 87], [5773, 'Chapter 19\\n', 3, 88], [5784, 'Chapter 20\\n', 3, 89], [5805, 'Chapter 21\\n', 3, 90], [5938, 'Chapter 22\\n', 3, 91], [6019, 'Chapter 23\\n', 3, 92], [6064, 'Chapter 24\\n', 3, 93], [6075, 'Chapter 25\\n', 3, 94], [6122, 'Chapter 26\\n', 3, 95], [6159, 'Chapter 27\\n', 3, 96], [6276, 'Chapter 28\\n', 3, 97], [6345, 'Chapter 29\\n', 3, 98], [6372, 'Chapter 30\\n', 3, 99], [6421, 'Chapter 31\\n', 3, 100], [6478, 'Chapter 32\\n', 3, 101], [6544, 'PART FOUR\\n', 4, 101], [6545, 'Chapter 1\\n', 4, 102], [6562, 'Chapter 2\\n', 4, 103], [6583, 'Chapter 3\\n', 4, 104], [6712, 'Chapter 4\\n', 4, 105], [6783, 'Chapter 5\\n', 4, 106], [6876, 'Chapter 6\\n', 4, 107], [6933, 'Chapter 7\\n', 4, 108], [7002, 'Chapter 8\\n', 4, 109], [7091, 'Chapter 9\\n', 4, 110], [7188, 'Chapter 10\\n', 4, 111], [7269, 'Chapter 11\\n', 4, 112], [7300, 'Chapter 12\\n', 4, 113], [7393, 'Chapter 13\\n', 4, 114], [7472, 'Chapter 14\\n', 4, 115], [7541, 'Chapter 15\\n', 4, 116], [7594, 'Chapter 16\\n', 4, 117], [7667, 'Chapter 17\\n', 4, 118], [7784, 'Chapter 18\\n', 4, 119], [7817, 'Chapter 19\\n', 4, 120], [7922, 'Chapter 20\\n', 4, 121], [7957, 'Chapter 21\\n', 4, 122], [8032, 'Chapter 22\\n', 4, 123], [8119, 'Chapter 23\\n', 4, 124], [8191, 'PART FIVE\\n', 5, 124], [8192, 'Chapter 1\\n', 5, 125], [8275, 'Chapter 2\\n', 5, 126], [8384, 'Chapter 3\\n', 5, 127], [8423, 'Chapter 4\\n', 5, 128], [8504, 'Chapter 5\\n', 5, 129], [8569, 'Chapter 6\\n', 5, 130], [8592, 'Chapter 7\\n', 5, 131], [8671, 'Chapter 8\\n', 5, 132], [8688, 'Chapter 9\\n', 5, 133], [8723, 'Chapter 10\\n', 5, 134], [8750, 'Chapter 11\\n', 5, 135], [8801, 'Chapter 12\\n', 5, 136], [8826, 'Chapter 13\\n', 5, 137], [8851, 'Chapter 14\\n', 5, 138], [8878, 'Chapter 15\\n', 5, 139], [8925, 'Chapter 16\\n', 5, 140], [8988, 'Chapter 17\\n', 5, 141], [9065, 'Chapter 18\\n', 5, 142], [9100, 'Chapter 19\\n', 5, 143], [9139, 'Chapter 20\\n', 5, 144], [9252, 'Chapter 21\\n', 5, 145], [9281, 'Chapter 22\\n', 5, 146], [9336, 'Chapter 23\\n', 5, 147], [9363, 'Chapter 24\\n', 5, 148], [9448, 'Chapter 25\\n', 5, 149], [9501, 'Chapter 26\\n', 5, 150], [9586, 'Chapter 27\\n', 5, 151], [9637, 'Chapter 28\\n', 5, 152], [9680, 'Chapter 29\\n', 5, 153], [9767, 'Chapter 30\\n', 5, 154], [9822, 'Chapter 31\\n', 5, 155], [9871, 'Chapter 32\\n', 5, 156], [9928, 'Chapter 33\\n', 5, 157], [10076, 'PART SIX\\n', 6, 157], [10077, 'Chapter 1\\n', 6, 158], [10124, 'Chapter 2\\n', 6, 159], [10267, 'Chapter 3\\n', 6, 160], [10362, 'Chapter 4\\n', 6, 161], [10373, 'Chapter 5\\n', 6, 162], [10436, 'Chapter 6\\n', 6, 163], [10523, 'Chapter 7\\n', 6, 164], [10650, 'Chapter 8\\n', 6, 165], [10719, 'Chapter 9\\n', 6, 166], [10788, 'Chapter 10\\n', 6, 167], [10871, 'Chapter 11\\n', 6, 168], [11002, 'Chapter 12\\n', 6, 169], [11039, 'Chapter 13\\n', 6, 170], [11074, 'Chapter 14\\n', 6, 171], [11173, 'Chapter 15\\n', 6, 172], [11288, 'Chapter 16\\n', 6, 173], [11327, 'Chapter 17\\n', 6, 174], [11408, 'Chapter 18\\n', 6, 175], [11479, 'Chapter 19\\n', 6, 176], [11536, 'Chapter 20\\n', 6, 177], [11621, 'Chapter 21\\n', 6, 178], [11688, 'Chapter 22\\n', 6, 179], [11811, 'Chapter 23\\n', 6, 180], [11906, 'Chapter 24\\n', 6, 181], [11973, 'Chapter 25\\n', 6, 182], [11992, 'Chapter 26\\n', 6, 183], [12017, 'Chapter 27\\n', 6, 184], [12042, 'Chapter 28\\n', 6, 185], [12089, 'Chapter 29\\n', 6, 186], [12172, 'Chapter 30\\n', 6, 187], [12289, 'Chapter 31\\n', 6, 188], [12330, 'Chapter 32\\n', 6, 189], [12412, 'PART SEVEN\\n', 7, 189], [12413, 'Chapter 1\\n', 7, 190], [12444, 'Chapter 2\\n', 7, 191], [12549, 'Chapter 3\\n', 7, 192], [12604, 'Chapter 4\\n', 7, 193], [12671, 'Chapter 5\\n', 7, 194], [12696, 'Chapter 6\\n', 7, 195], [12743, 'Chapter 7\\n', 7, 196], [12810, 'Chapter 8\\n', 7, 197], [12879, 'Chapter 9\\n', 7, 198], [12914, 'Chapter 10\\n', 7, 199], [13015, 'Chapter 11\\n', 7, 200], [13066, 'Chapter 12\\n', 7, 201], [13107, 'Chapter 13\\n', 7, 202], [13166, 'Chapter 14\\n', 7, 203], [13245, 'Chapter 15\\n', 7, 204], [13280, 'Chapter 16\\n', 7, 205], [13327, 'Chapter 17\\n', 7, 206], [13388, 'Chapter 18\\n', 7, 207], [13445, 'Chapter 19\\n', 7, 208], [13502, 'Chapter 20\\n', 7, 209], [13563, 'Chapter 21\\n', 7, 210], [13670, 'Chapter 22\\n', 7, 211], [13697, 'Chapter 23\\n', 7, 212], [13738, 'Chapter 24\\n', 7, 213], [13841, 'Chapter 25\\n', 7, 214], [13978, 'Chapter 26\\n', 7, 215], [14027, 'Chapter 27\\n', 7, 216], [14084, 'Chapter 28\\n', 7, 217], [14163, 'Chapter 29\\n', 7, 218], [14198, 'Chapter 30\\n', 7, 219], [14215, 'Chapter 31\\n', 7, 220], [14261, 'PART EIGHT\\n', 8, 220], [14262, 'Chapter 1\\n', 8, 221], [14309, 'Chapter 2\\n', 8, 222], [14384, 'Chapter 3\\n', 8, 223], [14421, 'Chapter 4\\n', 8, 224], [14450, 'Chapter 5\\n', 8, 225], [14485, 'Chapter 6\\n', 8, 226], [14544, 'Chapter 7\\n', 8, 227], [14567, 'Chapter 8\\n', 8, 228], [14592, 'Chapter 9\\n', 8, 229], [14621, 'Chapter 10\\n', 8, 230], [14650, 'Chapter 11\\n', 8, 231], [14691, 'Chapter 12\\n', 8, 232], [14738, 'Chapter 13\\n', 8, 233], [14779, 'Chapter 14\\n', 8, 234], [14866, 'Chapter 15\\n', 8, 235], [14941, 'Chapter 16\\n', 8, 236], [14994, 'Chapter 17\\n', 8, 237], [15039, 'Chapter 18\\n', 8, 238], [15090, 'Chapter 19\\n', 8, 239]]\n"
     ]
    }
   ],
   "source": [
    "ls1 = []\n",
    "part, chapter = 0, 0\n",
    "\n",
    "\n",
    "for l, line in enumerate(paragraphs):\n",
    "    if line.lower().startswith('chapter') or line.lower().startswith('part'):\n",
    "        if line.lower().startswith('part') == True:\n",
    "            part += 1\n",
    "        if line.lower().startswith('chapter') == True:\n",
    "            chapter += 1\n",
    "\n",
    "        ls1.append([l+1, line, part, chapter])\n",
    "\n",
    "print(ls1)"
   ]
  },
  {
   "cell_type": "code",
   "execution_count": 66,
   "metadata": {},
   "outputs": [
    {
     "name": "stdout",
     "output_type": "stream",
     "text": [
      "{'part:1 chapter:0': 5, 'part:1 chapter:1': 6, 'part:1 chapter:2': 37, 'part:1 chapter:3': 108, 'part:1 chapter:4': 167, 'part:1 chapter:5': 256, 'part:1 chapter:6': 411, 'part:1 chapter:7': 430, 'part:1 chapter:8': 459, 'part:1 chapter:9': 522, 'part:1 chapter:10': 649, 'part:1 chapter:11': 822, 'part:1 chapter:12': 913, 'part:1 chapter:13': 950, 'part:1 chapter:14': 991, 'part:1 chapter:15': 1132, 'part:1 chapter:16': 1173, 'part:1 chapter:17': 1192, 'part:1 chapter:18': 1269, 'part:1 chapter:19': 1410, 'part:1 chapter:20': 1519, 'part:1 chapter:21': 1598, 'part:1 chapter:22': 1651, 'part:1 chapter:23': 1702, 'part:1 chapter:24': 1757, 'part:1 chapter:25': 1818, 'part:1 chapter:26': 1959, 'part:1 chapter:27': 1986, 'part:1 chapter:28': 2013, 'part:1 chapter:29': 2086, 'part:1 chapter:30': 2099, 'part:1 chapter:31': 2126, 'part:1 chapter:32': 2171, 'part:1 chapter:33': 2210, 'part:1 chapter:34': 2263, 'part:2 chapter:34': 2323, 'part:2 chapter:35': 2324, 'part:2 chapter:36': 2391, 'part:2 chapter:37': 2464, 'part:2 chapter:38': 2531, 'part:2 chapter:39': 2580, 'part:2 chapter:40': 2633, 'part:2 chapter:41': 2744, 'part:2 chapter:42': 2899, 'part:2 chapter:43': 2928, 'part:2 chapter:44': 2993, 'part:2 chapter:45': 2996, 'part:2 chapter:46': 3025, 'part:2 chapter:47': 3034, 'part:2 chapter:48': 3169, 'part:2 chapter:49': 3258, 'part:2 chapter:50': 3327, 'part:2 chapter:51': 3416, 'part:2 chapter:52': 3491, 'part:2 chapter:53': 3508, 'part:2 chapter:54': 3583, 'part:2 chapter:55': 3668, 'part:2 chapter:56': 3743, 'part:2 chapter:57': 3828, 'part:2 chapter:58': 3885, 'part:2 chapter:59': 3964, 'part:2 chapter:60': 4007, 'part:2 chapter:61': 4044, 'part:2 chapter:62': 4101, 'part:2 chapter:63': 4170, 'part:2 chapter:64': 4265, 'part:2 chapter:65': 4284, 'part:2 chapter:66': 4363, 'part:2 chapter:67': 4468, 'part:2 chapter:68': 4511, 'part:2 chapter:69': 4634, 'part:3 chapter:69': 4768, 'part:3 chapter:70': 4769, 'part:3 chapter:71': 4788, 'part:3 chapter:72': 4825, 'part:3 chapter:73': 4944, 'part:3 chapter:74': 5043, 'part:3 chapter:75': 5102, 'part:3 chapter:76': 5179, 'part:3 chapter:77': 5196, 'part:3 chapter:78': 5257, 'part:3 chapter:79': 5306, 'part:3 chapter:80': 5411, 'part:3 chapter:81': 5442, 'part:3 chapter:82': 5477, 'part:3 chapter:83': 5510, 'part:3 chapter:84': 5531, 'part:3 chapter:85': 5588, 'part:3 chapter:86': 5627, 'part:3 chapter:87': 5704, 'part:3 chapter:88': 5773, 'part:3 chapter:89': 5784, 'part:3 chapter:90': 5805, 'part:3 chapter:91': 5938, 'part:3 chapter:92': 6019, 'part:3 chapter:93': 6064, 'part:3 chapter:94': 6075, 'part:3 chapter:95': 6122, 'part:3 chapter:96': 6159, 'part:3 chapter:97': 6276, 'part:3 chapter:98': 6345, 'part:3 chapter:99': 6372, 'part:3 chapter:100': 6421, 'part:3 chapter:101': 6478, 'part:4 chapter:101': 6544, 'part:4 chapter:102': 6545, 'part:4 chapter:103': 6562, 'part:4 chapter:104': 6583, 'part:4 chapter:105': 6712, 'part:4 chapter:106': 6783, 'part:4 chapter:107': 6876, 'part:4 chapter:108': 6933, 'part:4 chapter:109': 7002, 'part:4 chapter:110': 7091, 'part:4 chapter:111': 7188, 'part:4 chapter:112': 7269, 'part:4 chapter:113': 7300, 'part:4 chapter:114': 7393, 'part:4 chapter:115': 7472, 'part:4 chapter:116': 7541, 'part:4 chapter:117': 7594, 'part:4 chapter:118': 7667, 'part:4 chapter:119': 7784, 'part:4 chapter:120': 7817, 'part:4 chapter:121': 7922, 'part:4 chapter:122': 7957, 'part:4 chapter:123': 8032, 'part:4 chapter:124': 8119, 'part:5 chapter:124': 8191, 'part:5 chapter:125': 8192, 'part:5 chapter:126': 8275, 'part:5 chapter:127': 8384, 'part:5 chapter:128': 8423, 'part:5 chapter:129': 8504, 'part:5 chapter:130': 8569, 'part:5 chapter:131': 8592, 'part:5 chapter:132': 8671, 'part:5 chapter:133': 8688, 'part:5 chapter:134': 8723, 'part:5 chapter:135': 8750, 'part:5 chapter:136': 8801, 'part:5 chapter:137': 8826, 'part:5 chapter:138': 8851, 'part:5 chapter:139': 8878, 'part:5 chapter:140': 8925, 'part:5 chapter:141': 8988, 'part:5 chapter:142': 9065, 'part:5 chapter:143': 9100, 'part:5 chapter:144': 9139, 'part:5 chapter:145': 9252, 'part:5 chapter:146': 9281, 'part:5 chapter:147': 9336, 'part:5 chapter:148': 9363, 'part:5 chapter:149': 9448, 'part:5 chapter:150': 9501, 'part:5 chapter:151': 9586, 'part:5 chapter:152': 9637, 'part:5 chapter:153': 9680, 'part:5 chapter:154': 9767, 'part:5 chapter:155': 9822, 'part:5 chapter:156': 9871, 'part:5 chapter:157': 9928, 'part:6 chapter:157': 10076, 'part:6 chapter:158': 10077, 'part:6 chapter:159': 10124, 'part:6 chapter:160': 10267, 'part:6 chapter:161': 10362, 'part:6 chapter:162': 10373, 'part:6 chapter:163': 10436, 'part:6 chapter:164': 10523, 'part:6 chapter:165': 10650, 'part:6 chapter:166': 10719, 'part:6 chapter:167': 10788, 'part:6 chapter:168': 10871, 'part:6 chapter:169': 11002, 'part:6 chapter:170': 11039, 'part:6 chapter:171': 11074, 'part:6 chapter:172': 11173, 'part:6 chapter:173': 11288, 'part:6 chapter:174': 11327, 'part:6 chapter:175': 11408, 'part:6 chapter:176': 11479, 'part:6 chapter:177': 11536, 'part:6 chapter:178': 11621, 'part:6 chapter:179': 11688, 'part:6 chapter:180': 11811, 'part:6 chapter:181': 11906, 'part:6 chapter:182': 11973, 'part:6 chapter:183': 11992, 'part:6 chapter:184': 12017, 'part:6 chapter:185': 12042, 'part:6 chapter:186': 12089, 'part:6 chapter:187': 12172, 'part:6 chapter:188': 12289, 'part:6 chapter:189': 12330, 'part:7 chapter:189': 12412, 'part:7 chapter:190': 12413, 'part:7 chapter:191': 12444, 'part:7 chapter:192': 12549, 'part:7 chapter:193': 12604, 'part:7 chapter:194': 12671, 'part:7 chapter:195': 12696, 'part:7 chapter:196': 12743, 'part:7 chapter:197': 12810, 'part:7 chapter:198': 12879, 'part:7 chapter:199': 12914, 'part:7 chapter:200': 13015, 'part:7 chapter:201': 13066, 'part:7 chapter:202': 13107, 'part:7 chapter:203': 13166, 'part:7 chapter:204': 13245, 'part:7 chapter:205': 13280, 'part:7 chapter:206': 13327, 'part:7 chapter:207': 13388, 'part:7 chapter:208': 13445, 'part:7 chapter:209': 13502, 'part:7 chapter:210': 13563, 'part:7 chapter:211': 13670, 'part:7 chapter:212': 13697, 'part:7 chapter:213': 13738, 'part:7 chapter:214': 13841, 'part:7 chapter:215': 13978, 'part:7 chapter:216': 14027, 'part:7 chapter:217': 14084, 'part:7 chapter:218': 14163, 'part:7 chapter:219': 14198, 'part:7 chapter:220': 14215, 'part:8 chapter:220': 14261, 'part:8 chapter:221': 14262, 'part:8 chapter:222': 14309, 'part:8 chapter:223': 14384, 'part:8 chapter:224': 14421, 'part:8 chapter:225': 14450, 'part:8 chapter:226': 14485, 'part:8 chapter:227': 14544, 'part:8 chapter:228': 14567, 'part:8 chapter:229': 14592, 'part:8 chapter:230': 14621, 'part:8 chapter:231': 14650, 'part:8 chapter:232': 14691, 'part:8 chapter:233': 14738, 'part:8 chapter:234': 14779, 'part:8 chapter:235': 14866, 'part:8 chapter:236': 14941, 'part:8 chapter:237': 14994, 'part:8 chapter:238': 15039, 'part:8 chapter:239': 15090}\n"
     ]
    }
   ],
   "source": [
    "# key: part, chapter, value: start line.\n",
    "\n",
    "\"\"\"\n",
    "    key: (part, chapter).\n",
    "    value: start row number for that chapter\n",
    "\"\"\"\n",
    "\n",
    "book_dict = dict()\n",
    "for elm in ls1:\n",
    "    k = 'part:' + str(elm[2]) + ' chapter:' + str(elm[3])\n",
    "    book_dict.update({k: elm[0]})\n",
    "\n",
    "\n",
    "print(book_dict)"
   ]
  },
  {
   "cell_type": "code",
   "execution_count": 68,
   "metadata": {},
   "outputs": [
    {
     "ename": "SyntaxError",
     "evalue": "invalid syntax (2432454489.py, line 5)",
     "output_type": "error",
     "traceback": [
      "\u001b[1;36m  Cell \u001b[1;32mIn[68], line 5\u001b[1;36m\u001b[0m\n\u001b[1;33m    my_dict.update((elm[2], elm[3]):elm[0])\u001b[0m\n\u001b[1;37m                                   ^\u001b[0m\n\u001b[1;31mSyntaxError\u001b[0m\u001b[1;31m:\u001b[0m invalid syntax\n"
     ]
    }
   ],
   "source": [
    "pachap = []\n",
    "my_dict = dict()\n",
    "for elm in ls1:\n",
    "    pachap.append((elm[2], elm[3]))\n",
    "    my_dict.update((elm[2], elm[3]):elm[0])\n",
    "\n",
    "print(my_dict)"
   ]
  },
  {
   "cell_type": "code",
   "execution_count": null,
   "metadata": {},
   "outputs": [],
   "source": []
  }
 ],
 "metadata": {
  "kernelspec": {
   "display_name": "Python 3",
   "language": "python",
   "name": "python3"
  },
  "language_info": {
   "codemirror_mode": {
    "name": "ipython",
    "version": 3
   },
   "file_extension": ".py",
   "mimetype": "text/x-python",
   "name": "python",
   "nbconvert_exporter": "python",
   "pygments_lexer": "ipython3",
   "version": "3.11.5"
  },
  "orig_nbformat": 4
 },
 "nbformat": 4,
 "nbformat_minor": 2
}
